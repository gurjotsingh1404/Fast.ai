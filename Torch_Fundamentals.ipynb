{
  "cells": [
    {
      "cell_type": "markdown",
      "metadata": {
        "id": "view-in-github",
        "colab_type": "text"
      },
      "source": [
        "<a href=\"https://colab.research.google.com/github/gurjotsingh1404/Fast.ai/blob/main/Torch_Fundamentals.ipynb\" target=\"_parent\"><img src=\"https://colab.research.google.com/assets/colab-badge.svg\" alt=\"Open In Colab\"/></a>"
      ]
    },
    {
      "cell_type": "code",
      "execution_count": null,
      "metadata": {
        "colab": {
          "base_uri": "https://localhost:8080/"
        },
        "id": "Dzr1QM4vFqnD",
        "outputId": "1c5baffa-581c-43d0-c77b-15e0963ad930"
      },
      "outputs": [
        {
          "output_type": "stream",
          "name": "stdout",
          "text": [
            "hello\n"
          ]
        }
      ],
      "source": [
        "print('hello')"
      ]
    },
    {
      "cell_type": "code",
      "execution_count": null,
      "metadata": {
        "colab": {
          "base_uri": "https://localhost:8080/"
        },
        "id": "5O8uSgTbF3jh",
        "outputId": "d65b425c-ac6f-403d-aeea-b0eb3d8d9ac1"
      },
      "outputs": [
        {
          "output_type": "stream",
          "name": "stdout",
          "text": [
            "/bin/bash: line 1: nvidia-smi: command not found\n"
          ]
        }
      ],
      "source": [
        "!nvidia-smi"
      ]
    },
    {
      "cell_type": "code",
      "execution_count": null,
      "metadata": {
        "colab": {
          "base_uri": "https://localhost:8080/"
        },
        "id": "uXt80rojGFZY",
        "outputId": "61fc9e5d-497a-4cb9-a091-8cca5c011894"
      },
      "outputs": [
        {
          "output_type": "stream",
          "name": "stdout",
          "text": [
            "2.0.1+cu118\n"
          ]
        }
      ],
      "source": [
        "import torch\n",
        "import pandas as pd\n",
        "import numpy as  np\n",
        "import matplotlib.pyplot as plt\n",
        "print(torch.__version__)"
      ]
    },
    {
      "cell_type": "code",
      "execution_count": null,
      "metadata": {
        "colab": {
          "base_uri": "https://localhost:8080/"
        },
        "id": "9jacu66rGVlj",
        "outputId": "821ff967-2fbd-4443-ebfc-de2a1f4a6506"
      },
      "outputs": [
        {
          "output_type": "execute_result",
          "data": {
            "text/plain": [
              "tensor(7)"
            ]
          },
          "metadata": {},
          "execution_count": 71
        }
      ],
      "source": [
        "##Introduction to tensors\n",
        "#creating tensors\n",
        "\n",
        "#scalar\n",
        "scalar = torch.tensor(7)\n",
        "scalar"
      ]
    },
    {
      "cell_type": "code",
      "execution_count": null,
      "metadata": {
        "id": "QewtL3clHhsH"
      },
      "outputs": [],
      "source": [
        "# pytorch tensors are created using Torch.tensor https://pytorch.org/docs/stable/tensors.html"
      ]
    },
    {
      "cell_type": "code",
      "execution_count": null,
      "metadata": {
        "colab": {
          "base_uri": "https://localhost:8080/"
        },
        "id": "6fEvoFlwH0nC",
        "outputId": "c9207590-6fe4-4dee-b4b9-84fd3aea3589"
      },
      "outputs": [
        {
          "output_type": "execute_result",
          "data": {
            "text/plain": [
              "0"
            ]
          },
          "metadata": {},
          "execution_count": 73
        }
      ],
      "source": [
        "scalar.ndim # no of dimension = 0 as its a regualr number"
      ]
    },
    {
      "cell_type": "code",
      "execution_count": null,
      "metadata": {
        "colab": {
          "base_uri": "https://localhost:8080/"
        },
        "id": "0uQZ6KzuIK_y",
        "outputId": "9afaeaa1-e27c-40a3-8db5-b0257594b0d5"
      },
      "outputs": [
        {
          "output_type": "execute_result",
          "data": {
            "text/plain": [
              "7"
            ]
          },
          "metadata": {},
          "execution_count": 74
        }
      ],
      "source": [
        "#get tensor back as python int\n",
        "scalar.item()"
      ]
    },
    {
      "cell_type": "code",
      "execution_count": null,
      "metadata": {
        "colab": {
          "base_uri": "https://localhost:8080/"
        },
        "id": "TfAo2v4bIWei",
        "outputId": "955baec5-69ac-4b6d-9cad-f6279fa41ac0"
      },
      "outputs": [
        {
          "output_type": "execute_result",
          "data": {
            "text/plain": [
              "tensor([7, 7])"
            ]
          },
          "metadata": {},
          "execution_count": 75
        }
      ],
      "source": [
        "#vector\n",
        "vector = torch.tensor([7,7])\n",
        "vector"
      ]
    },
    {
      "cell_type": "code",
      "execution_count": null,
      "metadata": {
        "colab": {
          "base_uri": "https://localhost:8080/"
        },
        "id": "D-STmp1ZIoJ-",
        "outputId": "32877c1c-91ea-4efa-f95b-64f030f5575b"
      },
      "outputs": [
        {
          "output_type": "execute_result",
          "data": {
            "text/plain": [
              "1"
            ]
          },
          "metadata": {},
          "execution_count": 76
        }
      ],
      "source": [
        "vector.ndim"
      ]
    },
    {
      "cell_type": "code",
      "execution_count": null,
      "metadata": {
        "colab": {
          "base_uri": "https://localhost:8080/"
        },
        "id": "1bRXe82ZIzmX",
        "outputId": "1a581e9c-0fee-4ea9-ed4c-ad32a6f6a6ae"
      },
      "outputs": [
        {
          "output_type": "execute_result",
          "data": {
            "text/plain": [
              "torch.Size([2])"
            ]
          },
          "metadata": {},
          "execution_count": 77
        }
      ],
      "source": [
        "vector.shape"
      ]
    },
    {
      "cell_type": "code",
      "execution_count": null,
      "metadata": {
        "colab": {
          "base_uri": "https://localhost:8080/"
        },
        "id": "k-YSnNpcI9ft",
        "outputId": "473a09f8-df70-4edf-8937-27473f22be00"
      },
      "outputs": [
        {
          "output_type": "execute_result",
          "data": {
            "text/plain": [
              "tensor([[ 7,  8],\n",
              "        [ 9, 10]])"
            ]
          },
          "metadata": {},
          "execution_count": 78
        }
      ],
      "source": [
        "#MATRIX\n",
        "MATRIX = torch.tensor([[7,8],[9,10]])\n",
        "MATRIX\n"
      ]
    },
    {
      "cell_type": "code",
      "execution_count": null,
      "metadata": {
        "colab": {
          "base_uri": "https://localhost:8080/"
        },
        "id": "SdDCgf9PJROa",
        "outputId": "009455de-8abd-496e-8947-4780b05dd295"
      },
      "outputs": [
        {
          "output_type": "stream",
          "name": "stdout",
          "text": [
            "How many dimensions does the matrix have?\n"
          ]
        },
        {
          "output_type": "execute_result",
          "data": {
            "text/plain": [
              "2"
            ]
          },
          "metadata": {},
          "execution_count": 79
        }
      ],
      "source": [
        "print(\"How many dimensions does the matrix have?\")\n",
        "MATRIX.ndim\n"
      ]
    },
    {
      "cell_type": "code",
      "execution_count": null,
      "metadata": {
        "colab": {
          "base_uri": "https://localhost:8080/"
        },
        "id": "TL1EbImmJiG5",
        "outputId": "b33e8d72-75af-4127-f3de-485adcd72339"
      },
      "outputs": [
        {
          "output_type": "execute_result",
          "data": {
            "text/plain": [
              "tensor([7, 8])"
            ]
          },
          "metadata": {},
          "execution_count": 80
        }
      ],
      "source": [
        "MATRIX[0]"
      ]
    },
    {
      "cell_type": "code",
      "execution_count": null,
      "metadata": {
        "colab": {
          "base_uri": "https://localhost:8080/"
        },
        "id": "YH6BarYAJlVS",
        "outputId": "2010e7da-645d-455f-f033-360535eef2fb"
      },
      "outputs": [
        {
          "output_type": "execute_result",
          "data": {
            "text/plain": [
              "tensor([ 9, 10])"
            ]
          },
          "metadata": {},
          "execution_count": 81
        }
      ],
      "source": [
        "MATRIX[1]"
      ]
    },
    {
      "cell_type": "code",
      "execution_count": null,
      "metadata": {
        "colab": {
          "base_uri": "https://localhost:8080/"
        },
        "id": "p1xHU-YvJp4A",
        "outputId": "0e6e7b3c-e578-4acc-ca64-1475891a0f6e"
      },
      "outputs": [
        {
          "output_type": "execute_result",
          "data": {
            "text/plain": [
              "torch.Size([2, 2])"
            ]
          },
          "metadata": {},
          "execution_count": 82
        }
      ],
      "source": [
        "MATRIX.shape"
      ]
    },
    {
      "cell_type": "code",
      "execution_count": null,
      "metadata": {
        "colab": {
          "base_uri": "https://localhost:8080/"
        },
        "id": "w_BM5x0NJtrv",
        "outputId": "d6ccfceb-6198-49fc-f26c-9568728333cb"
      },
      "outputs": [
        {
          "output_type": "execute_result",
          "data": {
            "text/plain": [
              "tensor([[[1, 2, 3],\n",
              "         [4, 5, 6],\n",
              "         [7, 8, 9]]])"
            ]
          },
          "metadata": {},
          "execution_count": 83
        }
      ],
      "source": [
        "# TENSOR\n",
        "TENSOR = torch.tensor([[[1,2,3],[4,5,6],[7,8,9]]])\n",
        "TENSOR\n"
      ]
    },
    {
      "cell_type": "code",
      "execution_count": null,
      "metadata": {
        "colab": {
          "base_uri": "https://localhost:8080/"
        },
        "id": "3MXXTS5wK7Qx",
        "outputId": "ce52d73b-8c5c-4416-a185-42e34515d5f8"
      },
      "outputs": [
        {
          "output_type": "execute_result",
          "data": {
            "text/plain": [
              "3"
            ]
          },
          "metadata": {},
          "execution_count": 84
        }
      ],
      "source": [
        "TENSOR.ndim"
      ]
    },
    {
      "cell_type": "code",
      "execution_count": null,
      "metadata": {
        "colab": {
          "base_uri": "https://localhost:8080/"
        },
        "id": "qaT-JLsHLBDJ",
        "outputId": "daf9fa72-bc8d-4f6c-fcd5-d8d0c372db99"
      },
      "outputs": [
        {
          "output_type": "execute_result",
          "data": {
            "text/plain": [
              "torch.Size([1, 3, 3])"
            ]
          },
          "metadata": {},
          "execution_count": 85
        }
      ],
      "source": [
        "TENSOR.shape\n",
        "#Basically pehli dimension me(0th dimension) 3 array hain ,\n",
        "#har array me 3 items hain. -> 1,3,3"
      ]
    },
    {
      "cell_type": "code",
      "execution_count": null,
      "metadata": {
        "colab": {
          "base_uri": "https://localhost:8080/"
        },
        "id": "FYFD_pRVLDCp",
        "outputId": "8cf0312d-73f5-4ef4-a6ea-005c67f2a4fb"
      },
      "outputs": [
        {
          "output_type": "execute_result",
          "data": {
            "text/plain": [
              "tensor([[1, 2, 3],\n",
              "        [4, 5, 6],\n",
              "        [7, 8, 9]])"
            ]
          },
          "metadata": {},
          "execution_count": 86
        }
      ],
      "source": [
        "TENSOR[0]"
      ]
    },
    {
      "cell_type": "code",
      "execution_count": null,
      "metadata": {
        "colab": {
          "base_uri": "https://localhost:8080/",
          "height": 175
        },
        "id": "4sipMluWLOnB",
        "outputId": "60b30105-155f-4ab6-e78f-c45ac95494c4"
      },
      "outputs": [
        {
          "output_type": "error",
          "ename": "IndexError",
          "evalue": "ignored",
          "traceback": [
            "\u001b[0;31m---------------------------------------------------------------------------\u001b[0m",
            "\u001b[0;31mIndexError\u001b[0m                                Traceback (most recent call last)",
            "\u001b[0;32m<ipython-input-87-41fed1505457>\u001b[0m in \u001b[0;36m<cell line: 1>\u001b[0;34m()\u001b[0m\n\u001b[0;32m----> 1\u001b[0;31m \u001b[0mTENSOR\u001b[0m\u001b[0;34m[\u001b[0m\u001b[0;36m1\u001b[0m\u001b[0;34m]\u001b[0m\u001b[0;34m\u001b[0m\u001b[0;34m\u001b[0m\u001b[0m\n\u001b[0m",
            "\u001b[0;31mIndexError\u001b[0m: index 1 is out of bounds for dimension 0 with size 1"
          ]
        }
      ],
      "source": [
        " TENSOR[1]"
      ]
    },
    {
      "cell_type": "code",
      "execution_count": null,
      "metadata": {
        "id": "e4_zjOUxLRGa"
      },
      "outputs": [],
      "source": [
        "kencer = torch.tensor([[[1,2],[3,4]]])\n",
        "kencer.ndim"
      ]
    },
    {
      "cell_type": "code",
      "execution_count": null,
      "metadata": {
        "id": "rCnNX2aHMoiB"
      },
      "outputs": [],
      "source": [
        "tensor = torch.Tensor([[[1,2,3],[1,2,3],[1,2,3]],\n",
        "                      [[4,5,6],[4,5,6],[4,5,6]],\n",
        "                      [[7,8,9],[7,8,9],[7,8,9]]])\n",
        "tensor.shape"
      ]
    },
    {
      "cell_type": "code",
      "source": [
        "tensor.ndim"
      ],
      "metadata": {
        "id": "7TevObSsRP3O"
      },
      "execution_count": null,
      "outputs": []
    },
    {
      "cell_type": "code",
      "source": [
        "print(Tensor)"
      ],
      "metadata": {
        "id": "eO08ckg6R4er"
      },
      "execution_count": null,
      "outputs": []
    },
    {
      "cell_type": "markdown",
      "source": [
        "### `RANDOM TENSORS`"
      ],
      "metadata": {
        "id": "4RbISF3pTqBT"
      }
    },
    {
      "cell_type": "markdown",
      "source": [
        "*Why* random tensors?\n",
        "Random tensors are important because the way many neural networks learn is that they start with tensors full of random numbers and adjust those random numbers to better represent the data.\n",
        "\n",
        "DOC : https://pytorch.org/docs/stable/generated/torch.rand.html\n",
        "\n",
        "\n",
        "\n",
        "`Start with random numbers -> look at data -> update random numbers -> look at data ->update the random numbers`\n"
      ],
      "metadata": {
        "id": "rkFr3d2XT1Bl"
      }
    },
    {
      "cell_type": "code",
      "source": [
        "# creating a random tensors of size(3,4)\n",
        "random_tensor = torch.rand(3,4)\n",
        "random_tensor"
      ],
      "metadata": {
        "id": "JCGpvIxoUXPz"
      },
      "execution_count": null,
      "outputs": []
    },
    {
      "cell_type": "code",
      "source": [
        "random_tensor.ndim"
      ],
      "metadata": {
        "id": "ADBdb3QYUoZG"
      },
      "execution_count": null,
      "outputs": []
    },
    {
      "cell_type": "code",
      "source": [
        "lamba_tensor = torch.rand(4,4,5)\n",
        "lamba_tensor"
      ],
      "metadata": {
        "id": "buJXBODXUv2f"
      },
      "execution_count": null,
      "outputs": []
    },
    {
      "cell_type": "code",
      "source": [
        "lamba_tensor.ndim"
      ],
      "metadata": {
        "id": "SgirfjagU7Jk"
      },
      "execution_count": null,
      "outputs": []
    },
    {
      "cell_type": "code",
      "source": [
        "# create a random tensor with similar shape to an image tensor\n",
        "random_image_size_tensor = torch.rand(size = (3,224,224))#height, width, colour channels\n",
        "random_image_size_tensor.shape, random_image_size_tensor.ndim\n"
      ],
      "metadata": {
        "id": "6bCnmHLLU-7u"
      },
      "execution_count": null,
      "outputs": []
    },
    {
      "cell_type": "markdown",
      "source": [
        "### Zeroes and ones"
      ],
      "metadata": {
        "id": "wbJLY7HeXsZE"
      }
    },
    {
      "cell_type": "code",
      "source": [
        "#Create a tensor of all zeroes( used in masking)\n",
        "zeros = torch.zeros(size=(4,4,5))\n",
        "zeros\n"
      ],
      "metadata": {
        "id": "MiUYiX6tXwz8"
      },
      "execution_count": null,
      "outputs": []
    },
    {
      "cell_type": "code",
      "source": [
        "zeros*lamba_tensor"
      ],
      "metadata": {
        "id": "TDfAEa2fX-Eo"
      },
      "execution_count": null,
      "outputs": []
    },
    {
      "cell_type": "code",
      "source": [
        "#MASKING OUT FIRST COLUMN, etc\n"
      ],
      "metadata": {
        "id": "ymfiJhtyYItd"
      },
      "execution_count": null,
      "outputs": []
    },
    {
      "cell_type": "code",
      "source": [
        "# Create a tensor of all ones\n",
        "ones = torch.ones(size=(3,4))\n",
        "ones"
      ],
      "metadata": {
        "id": "zhWMKN9cYauC"
      },
      "execution_count": null,
      "outputs": []
    },
    {
      "cell_type": "code",
      "source": [
        "ones.dtype # data type = torch.float 32"
      ],
      "metadata": {
        "id": "-6qmESJvYkme"
      },
      "execution_count": null,
      "outputs": []
    },
    {
      "cell_type": "code",
      "source": [],
      "metadata": {
        "id": "KfRdYgvaYnmj"
      },
      "execution_count": null,
      "outputs": []
    },
    {
      "cell_type": "markdown",
      "source": [
        "### Creating a range of tensor and tensor- like"
      ],
      "metadata": {
        "id": "cWyYZ-N_auq1"
      }
    },
    {
      "cell_type": "code",
      "source": [
        "zero_to_ten = torch.arange(0,9)\n",
        "zero_to_ten"
      ],
      "metadata": {
        "id": "40aV4cJja3EA"
      },
      "execution_count": null,
      "outputs": []
    },
    {
      "cell_type": "code",
      "source": [
        "naya = torch.arange(start = 1, end = 23, step = 2)\n",
        "naya"
      ],
      "metadata": {
        "id": "ETjBqbi0a9ix"
      },
      "execution_count": null,
      "outputs": []
    },
    {
      "cell_type": "code",
      "source": [
        "# create tensors like\n",
        "tees_zeroes = torch.zeros_like(input = naya)\n",
        "tees_zeroes"
      ],
      "metadata": {
        "id": "CLUNzO7rbTHf"
      },
      "execution_count": null,
      "outputs": []
    },
    {
      "cell_type": "markdown",
      "source": [
        "### Tensor Datatypes\n",
        "\n",
        "**Note:** Tensor datatypes is one of the 3 big erros that we will run into with in\n",
        "PyTorch and Deep Learning\n",
        "\n",
        "1. Tensors not right datatype\n",
        "2. Tensors not right shape\n",
        "3. Tensors not right device"
      ],
      "metadata": {
        "id": "7XnP3SMUeCye"
      }
    },
    {
      "cell_type": "code",
      "source": [
        "# Float 32 tensor\n",
        "float_32_tensor = torch.tensor([3.0, 6.0, 9.0],\n",
        "                               dtype = None, #what datatype is the tensor(eg. float32 or float 16)\n",
        "                               device = None,#what device is your data on\n",
        "                               requires_grad = False) #whether or not to track gradients with this tensors operations\n",
        "float_32_tensor"
      ],
      "metadata": {
        "id": "aOFVXzU_eQ0Y"
      },
      "execution_count": null,
      "outputs": []
    },
    {
      "cell_type": "code",
      "source": [
        "float_32_tensor.dtype"
      ],
      "metadata": {
        "id": "OrCUw_LGetZA"
      },
      "execution_count": null,
      "outputs": []
    },
    {
      "cell_type": "code",
      "source": [
        "#changing the tensor datatype"
      ],
      "metadata": {
        "id": "n-w30SOphXP1"
      },
      "execution_count": null,
      "outputs": []
    },
    {
      "cell_type": "code",
      "source": [
        "float_16_tensor = float_32_tensor.type(torch.float16)\n",
        "float_16_tensor"
      ],
      "metadata": {
        "id": "xgRx8M2iheae"
      },
      "execution_count": null,
      "outputs": []
    },
    {
      "cell_type": "code",
      "source": [
        "float_16_tensor*float_32_tensor"
      ],
      "metadata": {
        "id": "uLHlCtgahyA3"
      },
      "execution_count": null,
      "outputs": []
    },
    {
      "cell_type": "code",
      "source": [
        "float_16_tensor.dtype"
      ],
      "metadata": {
        "id": "j3A2P3Sjhuvs"
      },
      "execution_count": null,
      "outputs": []
    },
    {
      "cell_type": "markdown",
      "source": [
        "###  Multipyling tensors"
      ],
      "metadata": {
        "id": "R0f9GGmGliyC"
      }
    },
    {
      "cell_type": "code",
      "source": [
        "int_32_tensor = torch.tensor([3,6,9], dtype = torch.int32)\n",
        "int_32_tensor"
      ],
      "metadata": {
        "id": "gQWYhr7nrGEA"
      },
      "execution_count": null,
      "outputs": []
    },
    {
      "cell_type": "code",
      "source": [
        "mera_answer = int_32_tensor*float_32_tensor\n",
        "mera_answer.dtype"
      ],
      "metadata": {
        "id": "H0G-rXcrrV1P"
      },
      "execution_count": null,
      "outputs": []
    },
    {
      "cell_type": "code",
      "source": [
        "# How to change the data type of a tensor\n",
        "mera_answer = mera_answer.to(dtype = torch.int32)\n",
        "mera_answer.dtype"
      ],
      "metadata": {
        "id": "VLjGiQfPrb4G"
      },
      "execution_count": null,
      "outputs": []
    },
    {
      "cell_type": "markdown",
      "source": [
        "### Getting information from tensors(tensor attributes)\n",
        "\n",
        "\n",
        "1. Tensors in not right datatype - to  get datatype from a tensor, use `tensor.dtype`\n",
        "2. Tensors in not right shape - to get shape from a tensor, use `tensor.dtype`\n",
        "3. Tensors on  right device - to get the device from a tensor, use `tensor,device`\n",
        "\n",
        "\n",
        ".shape - attribute without the curly braces\n",
        "\n",
        "\n",
        ".size{} - function- with curly braces\n",
        "\n",
        "both will return the same value\n"
      ],
      "metadata": {
        "id": "McaH7XZdt3H4"
      }
    },
    {
      "cell_type": "code",
      "source": [
        "#Create a tensor and try these\n",
        "try_kro = torch.rand(3,4)\n",
        "try_kro"
      ],
      "metadata": {
        "id": "jL1MBNkwucTu"
      },
      "execution_count": null,
      "outputs": []
    },
    {
      "cell_type": "code",
      "source": [
        "#Find out details about try karo\n",
        "print(try_kro)\n",
        "print(f\"Datetype of tensor:{try_kro.dtype}\")\n",
        "print(f\"Shape of tensor: {try_kro.shape}\")\n",
        "print(f\"Device of tensor: {try_kro.device}\")\n"
      ],
      "metadata": {
        "id": "VhPxRnrpvJqS"
      },
      "execution_count": null,
      "outputs": []
    },
    {
      "cell_type": "code",
      "source": [],
      "metadata": {
        "id": "YeezjtMSwqhm"
      },
      "execution_count": null,
      "outputs": []
    },
    {
      "cell_type": "markdown",
      "source": [
        "### Manipulating Tensors(tensor operations)\n",
        "\n",
        "Tensor operations include:\n",
        "\n",
        "\n",
        "\n",
        "\n",
        "*Addition\n",
        "\n",
        "*Subtraction\n",
        "\n",
        "*Multiplication(element - wise)\n",
        "\n",
        "*Division\n",
        "\n",
        "*Matrix Multiplication\n",
        "\n"
      ],
      "metadata": {
        "id": "eE7NKArhQFcD"
      }
    },
    {
      "cell_type": "code",
      "source": [
        "#Creat a tensor and 10 added to it\n",
        "tensor = torch.tensor([1,2,3])\n",
        "tensor = tensor + 10\n",
        "tensor"
      ],
      "metadata": {
        "id": "OSWfU-DHQmNV"
      },
      "execution_count": null,
      "outputs": []
    },
    {
      "cell_type": "code",
      "source": [
        "# Multiplying by 10\n",
        "tensor = tensor*10"
      ],
      "metadata": {
        "id": "FchLUu8NRCtZ"
      },
      "execution_count": null,
      "outputs": []
    },
    {
      "cell_type": "code",
      "source": [
        "tensor = tensor - 10\n",
        "tensor\n"
      ],
      "metadata": {
        "id": "wc8WTSzuRMY3"
      },
      "execution_count": null,
      "outputs": []
    },
    {
      "cell_type": "code",
      "source": [
        " #Pytorch inbuilt functions\n",
        " torch.mul(tensor, 10)"
      ],
      "metadata": {
        "id": "KO7BMErXRU53"
      },
      "execution_count": null,
      "outputs": []
    },
    {
      "cell_type": "code",
      "source": [
        "torch.add(tensor, 1)"
      ],
      "metadata": {
        "id": "JzDpP9-bR2Dr"
      },
      "execution_count": null,
      "outputs": []
    },
    {
      "cell_type": "markdown",
      "source": [
        "### MATRIX MULTIPLICATION\n",
        "\n",
        "Two ways of multiplication in NN AND AL\n",
        "\n",
        "1. Element wise multiplication\n",
        "2. MATRIX Multiplication(DOT PRODUCT)\n",
        "\n",
        "\n",
        "TWO MAIN rules for performing matrix multiplication:\n",
        "\n",
        "1 **the innner dimensions** must much:\n",
        "(3,2)*(3,2) wont work\n",
        "(2,3)*(3,2) will work\n",
        "\n",
        "simple matrix multiplication rules\n",
        "\n",
        "\n",
        "\n",
        "2 The resulting matrix has the shape of the **outer dimensions**\n",
        "\n",
        "(3,2)*(2,4) == (3,4)\n",
        "\n"
      ],
      "metadata": {
        "id": "HBTmV2fEXsBQ"
      }
    },
    {
      "cell_type": "code",
      "source": [
        "# Element wise\n",
        "print(tensor, \"*\", tensor)\n",
        "print(f\"Equals: {tensor*tensor}\")"
      ],
      "metadata": {
        "id": "rmSP3zeIX9cL"
      },
      "execution_count": null,
      "outputs": []
    },
    {
      "cell_type": "code",
      "source": [
        "#MATRIX MULTIPLICATION\n",
        "torch.matmul(tensor, tensor) #always use the given method it is much fast than by self"
      ],
      "metadata": {
        "id": "a4QUBWOHYwZJ"
      },
      "execution_count": null,
      "outputs": []
    },
    {
      "cell_type": "code",
      "source": [
        "torch.matmul(torch.rand(3,6), torch.rand(6,7)).shape"
      ],
      "metadata": {
        "id": "G-KN7EUEY22Q"
      },
      "execution_count": null,
      "outputs": []
    },
    {
      "cell_type": "markdown",
      "source": [
        "### One of the most common errors in deep learning : shape errors"
      ],
      "metadata": {
        "id": "1Y3K3aU4cj-l"
      }
    },
    {
      "cell_type": "code",
      "source": [
        "# Shapes for matrix multiplication\n",
        "tensor_A = torch.tensor([[1,2],\n",
        "                         [3,4],\n",
        "                         [5,6]])\n",
        "tensor_B = torch.tensor([[7,10],\n",
        "                         [8,11],\n",
        "                         [9,12]])\n",
        "\n",
        "torch.mm(tensor_A, tensor_B) # matmul -> mm"
      ],
      "metadata": {
        "id": "sNsB81NNyNm3"
      },
      "execution_count": null,
      "outputs": []
    },
    {
      "cell_type": "markdown",
      "source": [],
      "metadata": {
        "id": "YVG5lxQ45-sU"
      }
    },
    {
      "cell_type": "code",
      "source": [
        "tensor_A.shape, tensor_B.shape"
      ],
      "metadata": {
        "id": "nApMjZoa3cW_"
      },
      "execution_count": null,
      "outputs": []
    },
    {
      "cell_type": "markdown",
      "source": [
        "To fix our tensor shape issues, we can manipulate the shape of one of our tensor  using transpose\n",
        "\n"
      ],
      "metadata": {
        "id": "WIzv_Yrl3wED"
      }
    },
    {
      "cell_type": "code",
      "source": [
        "tensor_B, tensor_B.shape"
      ],
      "metadata": {
        "id": "YZEJhY1q4AkR"
      },
      "execution_count": null,
      "outputs": []
    },
    {
      "cell_type": "code",
      "source": [
        "tensor_B.T, tensor_B.T. shape"
      ],
      "metadata": {
        "id": "QAqffxh34Dme"
      },
      "execution_count": null,
      "outputs": []
    },
    {
      "cell_type": "code",
      "source": [
        "# The matrix multiplication is when tensor_B is transposed\n",
        "\n",
        "print(f\"The original shapes: tensor_A = {tensor_A.shape}, tensor_B = {tensor_B.shape}\")\n",
        "print(f\"New shapes:  tensor_A = {tensor_A.shape} (same shape as above), tensor_B.T = {tensor_B.T.shape}\")\n",
        "print(f\" Multipying: {tensor_A.shape} @ {tensor_B.T.shape} <- inner dimensions must match\")\n",
        "output = torch.matmul(tensor_A, tensor_B.T)\n",
        "print(output)\n",
        "print(f\"\\nOutput shape: {output.shape}\")\n"
      ],
      "metadata": {
        "id": "IDKOK8tl4G85"
      },
      "execution_count": null,
      "outputs": []
    },
    {
      "cell_type": "markdown",
      "source": [
        "### Tensor Aggregation"
      ],
      "metadata": {
        "id": "tBHNCboC-gs_"
      }
    },
    {
      "cell_type": "markdown",
      "source": [
        "Finding Min, Max, Mean, Sum, etc"
      ],
      "metadata": {
        "id": "rBkqPGIs-nyS"
      }
    },
    {
      "cell_type": "code",
      "source": [
        "x =torch.arange(0,100,10)\n",
        "x.dtype"
      ],
      "metadata": {
        "id": "oYIUw1Vi-sM1"
      },
      "execution_count": null,
      "outputs": []
    },
    {
      "cell_type": "code",
      "source": [
        "#Find the min\n",
        "torch.min(x), x.min()"
      ],
      "metadata": {
        "id": "k4h27Y2G-3N8"
      },
      "execution_count": null,
      "outputs": []
    },
    {
      "cell_type": "code",
      "source": [
        "# Find the max\n",
        "torch.max(x), x.max(x)"
      ],
      "metadata": {
        "id": "I82WR3Vl--Xl"
      },
      "execution_count": null,
      "outputs": []
    },
    {
      "cell_type": "code",
      "source": [
        "#Find the mean (WRONG DATA TYPE ERROR !!!!!!!!!!!!!!!)\n",
        "#Notw: The torch.mean requires a tensor of float 32 datatype\n",
        "torch.mean(x.type(torch.float32)), x.type(torch.float32).mean()"
      ],
      "metadata": {
        "id": "Tr3u8gl8_J6E"
      },
      "execution_count": null,
      "outputs": []
    },
    {
      "cell_type": "code",
      "source": [
        "#Find the sum\n",
        "torch.sum(x), x.sum()"
      ],
      "metadata": {
        "id": "1961iKkk_t8g"
      },
      "execution_count": null,
      "outputs": []
    },
    {
      "cell_type": "markdown",
      "source": [
        "###Finding the positional min and max( Returns the index)\n",
        "\n",
        "*   List item\n",
        "*   List item\n",
        "\n"
      ],
      "metadata": {
        "id": "hBoLeEo4A2sd"
      }
    },
    {
      "cell_type": "code",
      "source": [
        "x\n"
      ],
      "metadata": {
        "id": "BkS8dBKDBBsI"
      },
      "execution_count": null,
      "outputs": []
    },
    {
      "cell_type": "code",
      "source": [
        "# Find the position in tensor which has the min value   -> returns its index\n",
        "x.argmin()"
      ],
      "metadata": {
        "id": "W_umO9cPBDCd"
      },
      "execution_count": null,
      "outputs": []
    },
    {
      "cell_type": "code",
      "source": [
        "x[0]"
      ],
      "metadata": {
        "id": "wP60G6Y4BFzp"
      },
      "execution_count": null,
      "outputs": []
    },
    {
      "cell_type": "code",
      "source": [
        "#Find the position in tensor with the max value\n",
        "x.argmax()"
      ],
      "metadata": {
        "id": "pwru0cZxBR6p"
      },
      "execution_count": null,
      "outputs": []
    },
    {
      "cell_type": "markdown",
      "source": [
        "## Reshaping, stacking, squeezing, and unsqueezing tensors\n",
        "\n",
        "* Reshaping - reshapes an inout tensor to a defined shape.\n",
        "\n",
        "*View - Return a view of an input tensor of certain shape but keep the same memory as the original tensor.\n",
        "\n",
        "*Stacking - Combine multiple tensors on top of each other (vstack) ir side by side stack(hstack)\n",
        "\n",
        "*Squeeze - removes all `1` dimensions to a target tensor\n",
        "*Unsqueeze - add a `1` dimenions to a target tensor\n",
        "\n",
        "*Permute - Return a view of the input with dimensions permuted(swapped) in a certain way.\n"
      ],
      "metadata": {
        "id": "IQ8rkCJ_vslF"
      }
    },
    {
      "cell_type": "code",
      "source": [
        "#lets create a tensor\n",
        "import torch\n",
        "x = torch.arange(1., 10.)\n",
        "x, x.shape\n"
      ],
      "metadata": {
        "id": "l3RXNxYDxXcC"
      },
      "execution_count": null,
      "outputs": []
    },
    {
      "cell_type": "code",
      "source": [
        "#Add an extrea dimension\n",
        "x_reshaped = x.reshape(9,1)\n",
        "x_reshaped, x_reshaped.shape"
      ],
      "metadata": {
        "id": "P4iW3ynGxhZv"
      },
      "execution_count": null,
      "outputs": []
    },
    {
      "cell_type": "code",
      "source": [
        "#Change the view\n",
        "z = x.view(1,9)\n",
        "x, x.shape"
      ],
      "metadata": {
        "id": "oo5qgeiex1q3"
      },
      "execution_count": null,
      "outputs": []
    },
    {
      "cell_type": "code",
      "source": [
        "# Changing z changes x(because a view of a tensor shares the same memory as the original input)"
      ],
      "metadata": {
        "id": "2MSWXNAwygsn"
      },
      "execution_count": null,
      "outputs": []
    },
    {
      "cell_type": "code",
      "source": [
        "z[:, 0] = 5 # we changed the first element of z and it also changed in x, as z is a view of x\n",
        "z,x"
      ],
      "metadata": {
        "id": "cUrh7ui6yy-u"
      },
      "execution_count": null,
      "outputs": []
    },
    {
      "cell_type": "code",
      "source": [
        "#Stack tensors on top of each other\n",
        "x_stacked = torch.stack([x,x,x,x], dim = 0)\n",
        "x_stacked"
      ],
      "metadata": {
        "id": "bByyRmTWy3L1"
      },
      "execution_count": null,
      "outputs": []
    },
    {
      "cell_type": "code",
      "source": [
        "#torch.squeeze() - removes all single dimensions from a target tensor\n",
        "\n",
        "x = torch.zeros(2,1,2,1,2)\n"
      ],
      "metadata": {
        "id": "lALDf9mszkBu"
      },
      "execution_count": null,
      "outputs": []
    },
    {
      "cell_type": "code",
      "source": [
        "y = torch.squeeze(x)\n",
        "y.size()"
      ],
      "metadata": {
        "id": "KYXz9MEzniIN"
      },
      "execution_count": null,
      "outputs": []
    },
    {
      "cell_type": "code",
      "source": [
        "y = torch.squeeze(x,0)\n",
        "y.size()"
      ],
      "metadata": {
        "id": "-1T5iA64nqHs"
      },
      "execution_count": null,
      "outputs": []
    },
    {
      "cell_type": "code",
      "source": [
        "x_reshaped"
      ],
      "metadata": {
        "id": "Zdfga4FdotG0"
      },
      "execution_count": null,
      "outputs": []
    },
    {
      "cell_type": "code",
      "source": [
        "x_reshaped.shape"
      ],
      "metadata": {
        "id": "BQLtttFjpG_c"
      },
      "execution_count": null,
      "outputs": []
    },
    {
      "cell_type": "code",
      "source": [
        "x_reshaped.squeeze()"
      ],
      "metadata": {
        "id": "UQv5_5GdpLtk"
      },
      "execution_count": null,
      "outputs": []
    },
    {
      "cell_type": "code",
      "source": [
        "z = x_reshaped.squeeze().shape"
      ],
      "metadata": {
        "id": "n11A6NV7pPbu"
      },
      "execution_count": null,
      "outputs": []
    },
    {
      "cell_type": "code",
      "source": [
        "z.squeeze().shape"
      ],
      "metadata": {
        "id": "n-CyDSzKph_s"
      },
      "execution_count": null,
      "outputs": []
    },
    {
      "cell_type": "markdown",
      "source": [
        "`Uper wale me se 1 dimension wale uda diye hain, elements remain in the tensor, just the way of representation changes"
      ],
      "metadata": {
        "id": "Sf25DzoDqCMR"
      }
    },
    {
      "cell_type": "code",
      "source": [
        "# Make a habit of doing this visualization using printing and seeing how the tensor looks\n",
        "print(f\"Previous tensor: {x_reshaped}\")\n",
        "print(f\"Previous shape: {x_reshaped.shape}\")\n",
        "\n",
        "#remove extra dimensions from x_reshaped\n",
        "x_squeezed = x_reshaped.squeeze()\n",
        "print(f\"\\n New tensor: {x_squeezed}\")\n",
        "print(f\"New shape: {x_squeezed.shape}\")"
      ],
      "metadata": {
        "id": "oZ9PUDcNq8RG"
      },
      "execution_count": null,
      "outputs": []
    },
    {
      "cell_type": "code",
      "source": [
        "#torch.unsqueezed() - adds a single dimensions to a target tensor at a specific dim\n",
        "print(f\"Previous target: {x_squeezed}\")\n",
        "print(f\"Previous shape: {x_squeezed.shape}\")\n",
        "\n",
        "#Add an extra dimension with squeeze\n",
        "x_unsqueezed = x_squeezed.unsqueeze(dim = 0) # added a square bracket at the dimension 0\n",
        "print(f\"\\n New tensor: {x_unsqueezed}\")\n",
        "print(f\"New shape: {x_unsqueezed.shape}\")\n"
      ],
      "metadata": {
        "id": "YoQCPxj4sD3D"
      },
      "execution_count": null,
      "outputs": []
    },
    {
      "cell_type": "code",
      "source": [
        " x_squeezed.unsqueeze(dim = 1)"
      ],
      "metadata": {
        "colab": {
          "base_uri": "https://localhost:8080/"
        },
        "id": "PDuJqJPctU9l",
        "outputId": "aec037a3-ee08-42f0-ade6-b1ddd521691b"
      },
      "execution_count": null,
      "outputs": [
        {
          "output_type": "execute_result",
          "data": {
            "text/plain": [
              "tensor([[5.],\n",
              "        [2.],\n",
              "        [3.],\n",
              "        [4.],\n",
              "        [5.],\n",
              "        [6.],\n",
              "        [7.],\n",
              "        [8.],\n",
              "        [9.]])"
            ]
          },
          "metadata": {},
          "execution_count": 88
        }
      ]
    },
    {
      "cell_type": "markdown",
      "source": [
        "Every time there is a parameter in a pytorch function, try to change and play with to get an idea of the functionality"
      ],
      "metadata": {
        "id": "788M12lRt1wV"
      }
    },
    {
      "cell_type": "code",
      "source": [
        "# torch.permute - rearranges the dimensions of a target tensor in  a specified order\n",
        "# usually used in image data tensors\n",
        "\n",
        "x_original = torch.rand(size =(224, 224, 3)) #[height, width, color_channels\n",
        "\n",
        "#Permute the original tensor to rearrange the axis (or dim) order\n",
        "x_permuted = x_original.permute(2, 0 , 1) #shifts axis 0->1, 1->2, 2->1\n",
        "print(f\"Previous shape: {x_original.shape}\")\n",
        "print(f\"New shape: {x_permuted.shape} \") # Now this is [color_channels, height, width, shape badal gyi pr notice kre ki values same hi hain]"
      ],
      "metadata": {
        "colab": {
          "base_uri": "https://localhost:8080/"
        },
        "id": "VJ2athWHuCQS",
        "outputId": "99dfdcbe-853a-4622-e98f-b3f8f8b35cfe"
      },
      "execution_count": null,
      "outputs": [
        {
          "output_type": "stream",
          "name": "stdout",
          "text": [
            "Previous shape: torch.Size([224, 224, 3])\n",
            "New shape: torch.Size([3, 224, 224]) \n"
          ]
        }
      ]
    },
    {
      "cell_type": "code",
      "source": [
        "x_original[0, 0, 0] = 723489\n",
        "print(f\"Previous tensor: {x_original}\")\n",
        "print(f\"Previous tensor shape: {x_original.shape}\")\n",
        "print(f\"New shape: {x_original.permute(2, 0, 1).shape}\")\n"
      ],
      "metadata": {
        "colab": {
          "base_uri": "https://localhost:8080/"
        },
        "id": "4d99_jV_y4yC",
        "outputId": "320a23f2-760f-4e36-af22-00accca011bb"
      },
      "execution_count": null,
      "outputs": [
        {
          "output_type": "stream",
          "name": "stdout",
          "text": [
            "Previous tensor: tensor([[[723489]]])\n",
            "Previous tensor shape: torch.Size([1, 1, 1])\n",
            "New shape: torch.Size([1, 1, 1])\n"
          ]
        }
      ]
    },
    {
      "cell_type": "code",
      "source": [
        "\n",
        "# Modify the element\n",
        "x_original = torch.tensor([[[723489]]])\n",
        "\n",
        "# Print the changed value\n",
        "print(x_original)"
      ],
      "metadata": {
        "colab": {
          "base_uri": "https://localhost:8080/"
        },
        "id": "-j44ayx11Yt5",
        "outputId": "be0daf00-5eeb-41bb-eed6-53cd1b9b309b"
      },
      "execution_count": null,
      "outputs": [
        {
          "output_type": "stream",
          "name": "stdout",
          "text": [
            "tensor([[[723489]]])\n"
          ]
        }
      ]
    },
    {
      "cell_type": "markdown",
      "source": [
        "## Indexing (Selecting data from tensors)\n",
        "\n",
        "Index with Pytorch is similar to numPy"
      ],
      "metadata": {
        "id": "t70YsLP03MW0"
      }
    },
    {
      "cell_type": "code",
      "source": [
        "#Create a tensor\n",
        "import torch\n",
        "x = torch.arange(1,10).reshape(1, 3, 3)\n",
        "x, x.shape"
      ],
      "metadata": {
        "colab": {
          "base_uri": "https://localhost:8080/"
        },
        "id": "Hkr2S9Tq3M-B",
        "outputId": "623f1faa-2153-4d18-f94b-6181d0ca96b7"
      },
      "execution_count": null,
      "outputs": [
        {
          "output_type": "execute_result",
          "data": {
            "text/plain": [
              "(tensor([[[1, 2, 3],\n",
              "          [4, 5, 6],\n",
              "          [7, 8, 9]]]),\n",
              " torch.Size([1, 3, 3]))"
            ]
          },
          "metadata": {},
          "execution_count": 2
        }
      ]
    },
    {
      "cell_type": "code",
      "source": [
        "# Lets's index on our new tensor\n",
        "x[0]"
      ],
      "metadata": {
        "colab": {
          "base_uri": "https://localhost:8080/"
        },
        "id": "Hun_0Ylk3hrI",
        "outputId": "ce6c0419-95b3-4171-a8da-f410edd01286"
      },
      "execution_count": null,
      "outputs": [
        {
          "output_type": "execute_result",
          "data": {
            "text/plain": [
              "tensor([[1, 2, 3],\n",
              "        [4, 5, 6],\n",
              "        [7, 8, 9]])"
            ]
          },
          "metadata": {},
          "execution_count": 3
        }
      ]
    },
    {
      "cell_type": "code",
      "source": [
        "# Let's index on the middle bracket (dim =1)\n",
        "x[0][0]"
      ],
      "metadata": {
        "colab": {
          "base_uri": "https://localhost:8080/"
        },
        "id": "bzLpYvP33tCP",
        "outputId": "e13f9952-b434-425f-99eb-e8d8271cb784"
      },
      "execution_count": null,
      "outputs": [
        {
          "output_type": "execute_result",
          "data": {
            "text/plain": [
              "tensor([1, 2, 3])"
            ]
          },
          "metadata": {},
          "execution_count": 4
        }
      ]
    },
    {
      "cell_type": "code",
      "source": [
        "# Let's index on the most inner bracket( last dimension)\n",
        "x[1][1][1]"
      ],
      "metadata": {
        "colab": {
          "base_uri": "https://localhost:8080/",
          "height": 193
        },
        "id": "YrrzETlC30PK",
        "outputId": "e863a094-21b3-4769-afaa-a606f059b1e6"
      },
      "execution_count": null,
      "outputs": [
        {
          "output_type": "error",
          "ename": "IndexError",
          "evalue": "ignored",
          "traceback": [
            "\u001b[0;31m---------------------------------------------------------------------------\u001b[0m",
            "\u001b[0;31mIndexError\u001b[0m                                Traceback (most recent call last)",
            "\u001b[0;32m<ipython-input-5-875798c92cf1>\u001b[0m in \u001b[0;36m<cell line: 2>\u001b[0;34m()\u001b[0m\n\u001b[1;32m      1\u001b[0m \u001b[0;31m# Let's index on the most inner bracket( last dimension)\u001b[0m\u001b[0;34m\u001b[0m\u001b[0;34m\u001b[0m\u001b[0m\n\u001b[0;32m----> 2\u001b[0;31m \u001b[0mx\u001b[0m\u001b[0;34m[\u001b[0m\u001b[0;36m1\u001b[0m\u001b[0;34m]\u001b[0m\u001b[0;34m[\u001b[0m\u001b[0;36m1\u001b[0m\u001b[0;34m]\u001b[0m\u001b[0;34m[\u001b[0m\u001b[0;36m1\u001b[0m\u001b[0;34m]\u001b[0m\u001b[0;34m\u001b[0m\u001b[0;34m\u001b[0m\u001b[0m\n\u001b[0m",
            "\u001b[0;31mIndexError\u001b[0m: index 1 is out of bounds for dimension 0 with size 1"
          ]
        }
      ]
    },
    {
      "cell_type": "code",
      "source": [
        "x[0][1][1]"
      ],
      "metadata": {
        "colab": {
          "base_uri": "https://localhost:8080/"
        },
        "id": "_yCtuIKj4Bpw",
        "outputId": "299fd625-1adf-4f6b-992f-5d7c2036ea92"
      },
      "execution_count": null,
      "outputs": [
        {
          "output_type": "execute_result",
          "data": {
            "text/plain": [
              "tensor(5)"
            ]
          },
          "metadata": {},
          "execution_count": 6
        }
      ]
    },
    {
      "cell_type": "code",
      "source": [
        "numer_9 = x[0][2][2]\n",
        "numer_9"
      ],
      "metadata": {
        "colab": {
          "base_uri": "https://localhost:8080/"
        },
        "id": "CCzUgAeehS7V",
        "outputId": "40d0c426-2101-4643-d589-164bc604fee1"
      },
      "execution_count": null,
      "outputs": [
        {
          "output_type": "execute_result",
          "data": {
            "text/plain": [
              "tensor(9)"
            ]
          },
          "metadata": {},
          "execution_count": 10
        }
      ]
    },
    {
      "cell_type": "code",
      "source": [
        "#You can also use \";\" to select \"all\" of a target dimension\n",
        "x[:,2]"
      ],
      "metadata": {
        "colab": {
          "base_uri": "https://localhost:8080/"
        },
        "id": "Z2rizdvyhYw2",
        "outputId": "aa7d448a-f8c0-46a1-a0d6-798f416d90f3"
      },
      "execution_count": null,
      "outputs": [
        {
          "output_type": "execute_result",
          "data": {
            "text/plain": [
              "tensor([[7, 8, 9]])"
            ]
          },
          "metadata": {},
          "execution_count": 12
        }
      ]
    },
    {
      "cell_type": "code",
      "source": [
        "#Get all values of all values of 0th and 1st dimensions but only index 1 of 2nd dimension\n",
        "x[:, : ,1]"
      ],
      "metadata": {
        "colab": {
          "base_uri": "https://localhost:8080/"
        },
        "id": "Ou4UIJrQiEy2",
        "outputId": "50cfd398-66f4-4681-a366-d6e2f82a8ff7"
      },
      "execution_count": null,
      "outputs": [
        {
          "output_type": "execute_result",
          "data": {
            "text/plain": [
              "tensor([[2, 5, 8]])"
            ]
          },
          "metadata": {},
          "execution_count": 13
        }
      ]
    },
    {
      "cell_type": "code",
      "source": [
        "# Get all values of the 0 dimension but only the 1 index value of 1st and 2nd dimension\n",
        "x[:, 1, 1] # got the same answer as x[0][1][1]"
      ],
      "metadata": {
        "colab": {
          "base_uri": "https://localhost:8080/"
        },
        "id": "8Ub5DgJOiWXS",
        "outputId": "081dac1d-8324-4800-bd50-9e3a043629a9"
      },
      "execution_count": null,
      "outputs": [
        {
          "output_type": "execute_result",
          "data": {
            "text/plain": [
              "tensor([5])"
            ]
          },
          "metadata": {},
          "execution_count": 16
        }
      ]
    },
    {
      "cell_type": "markdown",
      "source": [
        "Same answer but the output here has is in the sqaure brackets as it returns the `dimensions` and the earlier code onyl returned the `particular value`.\n",
        "\n",
        "** To be kept in mind"
      ],
      "metadata": {
        "id": "e6FWHNSrjBST"
      }
    },
    {
      "cell_type": "code",
      "source": [
        "#Get index 0 of 0th dimension and all values of 2nd dimension\n",
        "x[0, 0, :] # same as x[0][0]"
      ],
      "metadata": {
        "colab": {
          "base_uri": "https://localhost:8080/"
        },
        "id": "VL2GGVjsjWGZ",
        "outputId": "910b3016-24a0-4d9f-8745-c8218e4ea44c"
      },
      "execution_count": null,
      "outputs": [
        {
          "output_type": "execute_result",
          "data": {
            "text/plain": [
              "tensor([1, 2, 3])"
            ]
          },
          "metadata": {},
          "execution_count": 17
        }
      ]
    },
    {
      "cell_type": "code",
      "source": [
        "#Index on x to return 9\n",
        "x[:,2,2]\n"
      ],
      "metadata": {
        "colab": {
          "base_uri": "https://localhost:8080/"
        },
        "id": "_rxfbUNIjlFh",
        "outputId": "b23a55d5-4cc3-46c4-f400-be55d76c70d0"
      },
      "execution_count": null,
      "outputs": [
        {
          "output_type": "execute_result",
          "data": {
            "text/plain": [
              "tensor([9])"
            ]
          },
          "metadata": {},
          "execution_count": 21
        }
      ]
    },
    {
      "cell_type": "code",
      "source": [
        "# Index on x to return 3 6 9\n",
        "x[:, : ,2]"
      ],
      "metadata": {
        "colab": {
          "base_uri": "https://localhost:8080/"
        },
        "id": "q5kvVe02j6WU",
        "outputId": "b1c746f4-e5d8-43bd-e145-60b817dd1835"
      },
      "execution_count": null,
      "outputs": [
        {
          "output_type": "execute_result",
          "data": {
            "text/plain": [
              "tensor([[3, 6, 9]])"
            ]
          },
          "metadata": {},
          "execution_count": 23
        }
      ]
    },
    {
      "cell_type": "code",
      "source": [
        "# OR\n",
        "\n",
        "print(x[0][2][2])\n",
        "\n",
        "print(x[:, :, 2])"
      ],
      "metadata": {
        "colab": {
          "base_uri": "https://localhost:8080/"
        },
        "id": "LDqKcGy6kGZA",
        "outputId": "ac5036ee-3636-4609-aa7c-d3df4129210f"
      },
      "execution_count": null,
      "outputs": [
        {
          "output_type": "stream",
          "name": "stdout",
          "text": [
            "tensor(9)\n",
            "tensor([[3, 6, 9]])\n"
          ]
        }
      ]
    },
    {
      "cell_type": "code",
      "source": [
        "x"
      ],
      "metadata": {
        "colab": {
          "base_uri": "https://localhost:8080/"
        },
        "id": "PtqDmi7wkYcm",
        "outputId": "eca5d9ce-3286-4e8b-ea47-6b0cd8fa90ae"
      },
      "execution_count": null,
      "outputs": [
        {
          "output_type": "execute_result",
          "data": {
            "text/plain": [
              "tensor([[[1, 2, 3],\n",
              "         [4, 5, 6],\n",
              "         [7, 8, 9]]])"
            ]
          },
          "metadata": {},
          "execution_count": 25
        }
      ]
    },
    {
      "cell_type": "markdown",
      "source": [
        "## PyTorch tensors and NumPy\n",
        "\n",
        "NumPy is a popular scientific Python numerical computing library.\n",
        "\n",
        "* Data in NumPy, want in PyTorch tensor-> `torch.from_numpy(ndarray)\n",
        "\n",
        "* PyTorch tensor->NumPy-> `torch.Tensor.numpy()"
      ],
      "metadata": {
        "id": "qBs6ek_5krbL"
      }
    },
    {
      "cell_type": "code",
      "source": [
        "#NumPy array to tensor\n",
        "import torch\n",
        "import numpy as np\n",
        "\n",
        "array = np.arange(1.0, 8.0)\n",
        "tensor = torch.from_numpy(array)\n",
        "array, tensor"
      ],
      "metadata": {
        "colab": {
          "base_uri": "https://localhost:8080/"
        },
        "id": "fynQeIU_lakM",
        "outputId": "47b52049-5452-4605-9a24-b9de1ebc6b18"
      },
      "execution_count": null,
      "outputs": [
        {
          "output_type": "execute_result",
          "data": {
            "text/plain": [
              "(array([1., 2., 3., 4., 5., 6., 7.]),\n",
              " tensor([1., 2., 3., 4., 5., 6., 7.], dtype=torch.float64))"
            ]
          },
          "metadata": {},
          "execution_count": 26
        }
      ]
    },
    {
      "cell_type": "code",
      "source": [
        "array.dtype"
      ],
      "metadata": {
        "colab": {
          "base_uri": "https://localhost:8080/"
        },
        "id": "8977-mINl3Iu",
        "outputId": "b0baf615-2b98-44e7-a490-f2118a136041"
      },
      "execution_count": null,
      "outputs": [
        {
          "output_type": "execute_result",
          "data": {
            "text/plain": [
              "dtype('float64')"
            ]
          },
          "metadata": {},
          "execution_count": 27
        }
      ]
    },
    {
      "cell_type": "code",
      "source": [
        "tensor.dtype\n"
      ],
      "metadata": {
        "colab": {
          "base_uri": "https://localhost:8080/"
        },
        "id": "BLmXuF9dl8bk",
        "outputId": "c2ebccce-02fe-4bf4-dd3d-0c95f04d4494"
      },
      "execution_count": null,
      "outputs": [
        {
          "output_type": "execute_result",
          "data": {
            "text/plain": [
              "torch.float64"
            ]
          },
          "metadata": {},
          "execution_count": 28
        }
      ]
    },
    {
      "cell_type": "code",
      "source": [
        "torch.arange(1.0, 8.0).dtype"
      ],
      "metadata": {
        "colab": {
          "base_uri": "https://localhost:8080/"
        },
        "id": "ZMfWOj-5l98n",
        "outputId": "01e12848-a241-46d1-91c5-9899da7b2b73"
      },
      "execution_count": null,
      "outputs": [
        {
          "output_type": "execute_result",
          "data": {
            "text/plain": [
              "torch.float32"
            ]
          },
          "metadata": {},
          "execution_count": 29
        }
      ]
    },
    {
      "cell_type": "markdown",
      "source": [
        "## NOTE\n",
        "\n",
        "* When you are going from numPY to PyTorch\n",
        "NumPy dtype = float64 and after getting converted to a tensor it will still reflect float32.\n",
        "\n",
        "* Whereas a tensor created by PyTorch is of dtype = float32"
      ],
      "metadata": {
        "id": "BcvGOQIImJAy"
      }
    },
    {
      "cell_type": "code",
      "source": [
        "# changing the dtype directly while making the conversion\n",
        "\n",
        "array = np.arange(1.0, 8.0)\n",
        "tensor = torch.from_numpy(array).type(torch.float32)\n",
        "array, tensor\n"
      ],
      "metadata": {
        "colab": {
          "base_uri": "https://localhost:8080/"
        },
        "id": "UexojYszmoFU",
        "outputId": "270786a6-ed94-4fff-c45a-c8aaef9f2e45"
      },
      "execution_count": null,
      "outputs": [
        {
          "output_type": "execute_result",
          "data": {
            "text/plain": [
              "(array([1., 2., 3., 4., 5., 6., 7.]), tensor([1., 2., 3., 4., 5., 6., 7.]))"
            ]
          },
          "metadata": {},
          "execution_count": 30
        }
      ]
    },
    {
      "cell_type": "code",
      "source": [
        "tensor.dtype"
      ],
      "metadata": {
        "colab": {
          "base_uri": "https://localhost:8080/"
        },
        "id": "jPgtEVVcnBQt",
        "outputId": "36f4d427-d9ff-4e92-85db-8a506afd1e44"
      },
      "execution_count": null,
      "outputs": [
        {
          "output_type": "execute_result",
          "data": {
            "text/plain": [
              "torch.float32"
            ]
          },
          "metadata": {},
          "execution_count": 32
        }
      ]
    },
    {
      "cell_type": "markdown",
      "source": [
        "** oh yeah"
      ],
      "metadata": {
        "id": "l9V8zb8qnPYd"
      }
    },
    {
      "cell_type": "code",
      "source": [
        "#Change the value of array, what will this to `tensor`\n"
      ],
      "metadata": {
        "id": "L-Y96z5gnRYU"
      },
      "execution_count": null,
      "outputs": []
    },
    {
      "cell_type": "code",
      "source": [
        "array = array + 1\n",
        "array, tensor"
      ],
      "metadata": {
        "colab": {
          "base_uri": "https://localhost:8080/"
        },
        "id": "S5ypoUORncuT",
        "outputId": "40d5831a-9aed-4e23-8983-ac88314c8d82"
      },
      "execution_count": null,
      "outputs": [
        {
          "output_type": "execute_result",
          "data": {
            "text/plain": [
              "(array([2., 3., 4., 5., 6., 7., 8.]), tensor([1., 2., 3., 4., 5., 6., 7.]))"
            ]
          },
          "metadata": {},
          "execution_count": 34
        }
      ]
    },
    {
      "cell_type": "markdown",
      "source": [
        "**Veridict : it changes the value of the original array and not the tensor it was converted into**\n",
        "\n"
      ],
      "metadata": {
        "id": "l_LKU9cTnnrA"
      }
    },
    {
      "cell_type": "code",
      "source": [
        "# Tensor to NumPy -> is float32\n",
        "tensor = torch.ones(7)\n",
        "numpy_tensor = tensor.numpy()\n",
        "tensor, numpy_tensor"
      ],
      "metadata": {
        "colab": {
          "base_uri": "https://localhost:8080/"
        },
        "id": "G_vXdKrdn4tb",
        "outputId": "41ccf05b-07ec-460b-f28a-3cde35561299"
      },
      "execution_count": null,
      "outputs": [
        {
          "output_type": "execute_result",
          "data": {
            "text/plain": [
              "(tensor([1., 1., 1., 1., 1., 1., 1.]),\n",
              " array([1., 1., 1., 1., 1., 1., 1.], dtype=float32))"
            ]
          },
          "metadata": {},
          "execution_count": 36
        }
      ]
    },
    {
      "cell_type": "code",
      "source": [
        "#Change the tensor, what happems to `numpy_tensor'?\n",
        "tensor = tensor + 1\n",
        "tensor, numpy_tensor"
      ],
      "metadata": {
        "colab": {
          "base_uri": "https://localhost:8080/"
        },
        "id": "NQJ2yipwvPIz",
        "outputId": "d6a4d649-cd6f-4ea4-a5a3-9b7db3161e38"
      },
      "execution_count": null,
      "outputs": [
        {
          "output_type": "execute_result",
          "data": {
            "text/plain": [
              "(tensor([2., 2., 2., 2., 2., 2., 2.]),\n",
              " array([1., 1., 1., 1., 1., 1., 1.], dtype=float32))"
            ]
          },
          "metadata": {},
          "execution_count": 37
        }
      ]
    },
    {
      "cell_type": "code",
      "source": [
        "# numpy tensor rem,ained unchanged, means they dont share any memory"
      ],
      "metadata": {
        "id": "3jEFGjulvkzi"
      },
      "execution_count": null,
      "outputs": []
    },
    {
      "cell_type": "markdown",
      "source": [
        "## Reproducibility(trying to take the random out of random)\n",
        "\n",
        "In short how a neural network learns:\n",
        "\n",
        "`start with random numbers-> tensor operations-> update random numbers to try and make them better represenations of the data-> again-> again-> again...`\n",
        "\n",
        "\n",
        "To reduce the randomness in neural networks and pytorch comes the concept of a `random seed`\n",
        "\n",
        "Essentially what the random seed does is \"flavour\" the randomness"
      ],
      "metadata": {
        "id": "BSJSH7_mwA6Q"
      }
    },
    {
      "cell_type": "code",
      "source": [
        "import torch\n",
        "\n",
        "\n",
        "#Create two random tensors\n",
        "random_tensor_A = torch.rand(3,4)\n",
        "random_tensor_B = torch.rand(3, 4)\n",
        "\n",
        "print(random_tensor_A)\n",
        "print(random_tensor_B)\n",
        "print(random_tensor_A == random_tensor_B)"
      ],
      "metadata": {
        "colab": {
          "base_uri": "https://localhost:8080/"
        },
        "id": "gEWYuP4NzL9I",
        "outputId": "617960ca-3c88-4324-bbb8-a9093c6f3daa"
      },
      "execution_count": null,
      "outputs": [
        {
          "output_type": "stream",
          "name": "stdout",
          "text": [
            "tensor([[0.1484, 0.5889, 0.8698, 0.0613],\n",
            "        [0.2451, 0.8336, 0.8612, 0.6512],\n",
            "        [0.8945, 0.0753, 0.4272, 0.6150]])\n",
            "tensor([[0.3818, 0.1984, 0.7609, 0.2993],\n",
            "        [0.4083, 0.3468, 0.8854, 0.4056],\n",
            "        [0.3601, 0.9861, 0.7352, 0.4560]])\n",
            "tensor([[False, False, False, False],\n",
            "        [False, False, False, False],\n",
            "        [False, False, False, False]])\n"
          ]
        }
      ]
    },
    {
      "cell_type": "code",
      "source": [
        "1 == 1"
      ],
      "metadata": {
        "colab": {
          "base_uri": "https://localhost:8080/"
        },
        "id": "puctJ1obz2Zc",
        "outputId": "c63a4d0f-3341-4a27-9e07-fbbd590a1842"
      },
      "execution_count": null,
      "outputs": [
        {
          "output_type": "execute_result",
          "data": {
            "text/plain": [
              "True"
            ]
          },
          "metadata": {},
          "execution_count": 12
        }
      ]
    },
    {
      "cell_type": "code",
      "source": [
        "#Lets make some random but reproducible tensors\n",
        "import torch\n",
        "\n",
        "#Set the random seed\n",
        "RANDOM_SEED = 42\n",
        "\n",
        "torch.manual_seed(RANDOM_SEED)\n",
        "random_tensor_C = torch.rand(3, 4)\n",
        "\n",
        "#if u are creating random tensors one after the other u need to call torch.manual everytime\n",
        "#Otherwise for other torch processes, just the random_seed needs to be assigned at the start of the code and it will do its job\n",
        "torch.manual_seed(RANDOM_SEED)\n",
        "random_tensor_D = torch.rand(3, 4)\n",
        "\n",
        "print(random_tensor_C)\n",
        "print(random_tensor_D)\n",
        "print(random_tensor_C == random_tensor_D)"
      ],
      "metadata": {
        "colab": {
          "base_uri": "https://localhost:8080/"
        },
        "id": "skHTl_Rq080A",
        "outputId": "a9cc3133-d1e5-4a9f-a1de-50ba96aea1b0"
      },
      "execution_count": null,
      "outputs": [
        {
          "output_type": "stream",
          "name": "stdout",
          "text": [
            "tensor([[0.8823, 0.9150, 0.3829, 0.9593],\n",
            "        [0.3904, 0.6009, 0.2566, 0.7936],\n",
            "        [0.9408, 0.1332, 0.9346, 0.5936]])\n",
            "tensor([[0.8823, 0.9150, 0.3829, 0.9593],\n",
            "        [0.3904, 0.6009, 0.2566, 0.7936],\n",
            "        [0.9408, 0.1332, 0.9346, 0.5936]])\n",
            "tensor([[True, True, True, True],\n",
            "        [True, True, True, True],\n",
            "        [True, True, True, True]])\n"
          ]
        }
      ]
    },
    {
      "cell_type": "markdown",
      "source": [
        "## RESOURCES FOR RANDOM SEED\n",
        "\n",
        "* https://pytorch.org/docs/stable/notes/randomness.html\n",
        "\n",
        "* https://en.wikipedia.org/wiki/Random_seed"
      ],
      "metadata": {
        "id": "1qzG4d-34zQo"
      }
    },
    {
      "cell_type": "markdown",
      "source": [
        "## Runnning tensors and PyTorch objects on GPU\n",
        "\n",
        "GPU = FASTER COMPUTATION\n",
        "\n",
        "1> google collab\n",
        "2> Own GPU\n",
        "3> Use cloud computing - GCP, AWS, Azure.\n",
        "\n",
        "For GPU Setup"
      ],
      "metadata": {
        "id": "JhG_G94B55-Y"
      }
    },
    {
      "cell_type": "code",
      "source": [
        "#CHECK FOR GPU ACCess with pytorch\n",
        "import torch\n",
        "torch.cuda.is_available()"
      ],
      "metadata": {
        "colab": {
          "base_uri": "https://localhost:8080/"
        },
        "id": "Pj-GB69y7QoX",
        "outputId": "6cc7a4a1-31a4-47c0-f587-ab1898d84a74"
      },
      "execution_count": null,
      "outputs": [
        {
          "output_type": "execute_result",
          "data": {
            "text/plain": [
              "False"
            ]
          },
          "metadata": {},
          "execution_count": 25
        }
      ]
    },
    {
      "cell_type": "code",
      "source": [
        "#Setup device agnostic code as tensors can run on GPU or CPU\n",
        "device = \"cuda\" if torch.cuda.is_available() else \"cpu\"\n",
        "device"
      ],
      "metadata": {
        "colab": {
          "base_uri": "https://localhost:8080/",
          "height": 35
        },
        "id": "az2-pMq47mlO",
        "outputId": "748c1d40-e10a-49e2-b11d-87d5ab4b1b5f"
      },
      "execution_count": null,
      "outputs": [
        {
          "output_type": "execute_result",
          "data": {
            "text/plain": [
              "'cpu'"
            ],
            "application/vnd.google.colaboratory.intrinsic+json": {
              "type": "string"
            }
          },
          "metadata": {},
          "execution_count": 27
        }
      ]
    },
    {
      "cell_type": "markdown",
      "source": [],
      "metadata": {
        "id": "zMKzL3318PUs"
      }
    },
    {
      "cell_type": "code",
      "source": [],
      "metadata": {
        "colab": {
          "base_uri": "https://localhost:8080/",
          "height": 158
        },
        "id": "FWMZEpeT8PfD",
        "outputId": "7f553bbf-8ad9-45f8-e584-70d05a6b08ef"
      },
      "execution_count": null,
      "outputs": [
        {
          "output_type": "error",
          "ename": "SyntaxError",
          "evalue": "ignored",
          "traceback": [
            "\u001b[0;36m  File \u001b[0;32m\"<ipython-input-29-b02e9739c7e0>\"\u001b[0;36m, line \u001b[0;32m1\u001b[0m\n\u001b[0;31m    pip3 install torch torchvision torchaudio --index-url https://download.pytorch.org/whl/cu117\u001b[0m\n\u001b[0m         ^\u001b[0m\n\u001b[0;31mSyntaxError\u001b[0m\u001b[0;31m:\u001b[0m invalid syntax\n"
          ]
        }
      ]
    },
    {
      "cell_type": "code",
      "source": [
        "torch.cuda.device_count()"
      ],
      "metadata": {
        "colab": {
          "base_uri": "https://localhost:8080/"
        },
        "id": "5gDRHcwT7xgu",
        "outputId": "2acc6def-e3c6-4238-f598-25478e5a4042"
      },
      "execution_count": null,
      "outputs": [
        {
          "output_type": "execute_result",
          "data": {
            "text/plain": [
              "0"
            ]
          },
          "metadata": {},
          "execution_count": 28
        }
      ]
    },
    {
      "cell_type": "markdown",
      "source": [
        "https://pytorch.org/docs/stable/notes/cuda.html"
      ],
      "metadata": {
        "id": "v-0FUc-l8CRb"
      }
    },
    {
      "cell_type": "code",
      "source": [],
      "metadata": {
        "id": "9VoTijyE8DEH"
      },
      "execution_count": null,
      "outputs": []
    },
    {
      "cell_type": "markdown",
      "source": [
        "## Putting tensors(and models) on the GPU\n"
      ],
      "metadata": {
        "id": "Ihr2rPrv8rLd"
      }
    },
    {
      "cell_type": "code",
      "source": [
        "# Create a tensor ( default on the CPU)\n",
        "tensor = torch.tensor([1, 2, 3])\n",
        "\n",
        "#Tensor not on CPU\n",
        "print(tensor, tensor.device)"
      ],
      "metadata": {
        "colab": {
          "base_uri": "https://localhost:8080/"
        },
        "id": "0Wx9sUYo8y61",
        "outputId": "b6419a81-d9c1-4f32-8a95-64b42236a4c2"
      },
      "execution_count": null,
      "outputs": [
        {
          "output_type": "stream",
          "name": "stdout",
          "text": [
            "tensor([1, 2, 3]) cpu\n"
          ]
        }
      ]
    },
    {
      "cell_type": "code",
      "source": [
        "# move tensor to gpu if avaialable\n",
        "tensor_on_gpu = tensor.to(device)\n",
        "tensor_on_gpu.device"
      ],
      "metadata": {
        "colab": {
          "base_uri": "https://localhost:8080/"
        },
        "id": "JtWHR3059BMZ",
        "outputId": "dc52d3c3-d730-4754-d9eb-f47ef55c92e3"
      },
      "execution_count": null,
      "outputs": [
        {
          "output_type": "execute_result",
          "data": {
            "text/plain": [
              "device(type='cpu')"
            ]
          },
          "metadata": {},
          "execution_count": 32
        }
      ]
    },
    {
      "cell_type": "markdown",
      "source": [
        "### moving tensors back to CPU\n",
        "\n",
        "* Numpy works only on the cpu, hence have to be converted back"
      ],
      "metadata": {
        "id": "kobb730b9a4r"
      }
    },
    {
      "cell_type": "code",
      "source": [
        "# if tensor is on GPU, can't transform it to NumPy\n",
        "tensor_on_gpu.numpy()"
      ],
      "metadata": {
        "colab": {
          "base_uri": "https://localhost:8080/"
        },
        "id": "L7ZZzwpC9rMi",
        "outputId": "76d7eb08-3ae6-49bd-c4a2-fa1c25b6e76f"
      },
      "execution_count": null,
      "outputs": [
        {
          "output_type": "execute_result",
          "data": {
            "text/plain": [
              "array([1, 2, 3])"
            ]
          },
          "metadata": {},
          "execution_count": 33
        }
      ]
    },
    {
      "cell_type": "code",
      "source": [
        "# To fix the GPU tensor with numPy issue, we cam first set it to the CPU\n",
        "\n",
        "tensor_back_on_cpu = tensor_on_gpu.cpu().numpy()\n",
        "tensor_back_on_cpu"
      ],
      "metadata": {
        "colab": {
          "base_uri": "https://localhost:8080/"
        },
        "id": "3ob9hSuK91vl",
        "outputId": "24f5c020-939e-4e75-8a6d-50ea3dcde28d"
      },
      "execution_count": null,
      "outputs": [
        {
          "output_type": "execute_result",
          "data": {
            "text/plain": [
              "array([1, 2, 3])"
            ]
          },
          "metadata": {},
          "execution_count": 38
        }
      ]
    },
    {
      "cell_type": "markdown",
      "source": [
        "### EXERCISES\n",
        "\n",
        "https://www.learnpytorch.io/00_pytorch_fundamentals/#exercises\n",
        "\n"
      ],
      "metadata": {
        "id": "4gjW4b2W_QIU"
      }
    }
  ],
  "metadata": {
    "colab": {
      "provenance": [],
      "authorship_tag": "ABX9TyMSkOx4yrtF5BTeRt/vXd4A",
      "include_colab_link": true
    },
    "kernelspec": {
      "display_name": "Python 3",
      "name": "python3"
    },
    "language_info": {
      "name": "python"
    },
    "accelerator": "TPU"
  },
  "nbformat": 4,
  "nbformat_minor": 0
}