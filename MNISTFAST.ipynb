{
 "cells": [
  {
   "cell_type": "code",
   "execution_count": 2,
   "id": "b4063e19",
   "metadata": {},
   "outputs": [],
   "source": [
    "import fastai\n",
    "from fastai.vision.all import *\n"
   ]
  },
  {
   "cell_type": "code",
   "execution_count": 6,
   "id": "1e4870cb",
   "metadata": {},
   "outputs": [
    {
     "data": {
      "text/html": [
       "\n",
       "<style>\n",
       "    /* Turns off some styling */\n",
       "    progress {\n",
       "        /* gets rid of default border in Firefox and Opera. */\n",
       "        border: none;\n",
       "        /* Needs to be in here for Safari polyfill so background images work as expected. */\n",
       "        background-size: auto;\n",
       "    }\n",
       "    progress:not([value]), progress:not([value])::-webkit-progress-bar {\n",
       "        background: repeating-linear-gradient(45deg, #7e7e7e, #7e7e7e 10px, #5c5c5c 10px, #5c5c5c 20px);\n",
       "    }\n",
       "    .progress-bar-interrupted, .progress-bar-interrupted::-webkit-progress-bar {\n",
       "        background: #F44336;\n",
       "    }\n",
       "</style>\n"
      ],
      "text/plain": [
       "<IPython.core.display.HTML object>"
      ]
     },
     "metadata": {},
     "output_type": "display_data"
    },
    {
     "data": {
      "text/html": [
       "\n",
       "    <div>\n",
       "      <progress value='2318336' class='' max='2314212' style='width:300px; height:20px; vertical-align: middle;'></progress>\n",
       "      100.18% [2318336/2314212 00:02&lt;00:00]\n",
       "    </div>\n",
       "    "
      ],
      "text/plain": [
       "<IPython.core.display.HTML object>"
      ]
     },
     "metadata": {},
     "output_type": "display_data"
    },
    {
     "name": "stderr",
     "output_type": "stream",
     "text": [
      "C:\\Users\\gurjo\\anaconda3\\lib\\site-packages\\torchvision\\models\\_utils.py:208: UserWarning: The parameter 'pretrained' is deprecated since 0.13 and may be removed in the future, please use 'weights' instead.\n",
      "  warnings.warn(\n",
      "C:\\Users\\gurjo\\anaconda3\\lib\\site-packages\\torchvision\\models\\_utils.py:223: UserWarning: Arguments other than a weight enum or `None` for 'weights' are deprecated since 0.13 and may be removed in the future. The current behavior is equivalent to passing `weights=ResNet34_Weights.IMAGENET1K_V1`. You can also use `weights=ResNet34_Weights.DEFAULT` to get the most up-to-date weights.\n",
      "  warnings.warn(msg)\n"
     ]
    },
    {
     "data": {
      "text/html": [
       "\n",
       "<style>\n",
       "    /* Turns off some styling */\n",
       "    progress {\n",
       "        /* gets rid of default border in Firefox and Opera. */\n",
       "        border: none;\n",
       "        /* Needs to be in here for Safari polyfill so background images work as expected. */\n",
       "        background-size: auto;\n",
       "    }\n",
       "    progress:not([value]), progress:not([value])::-webkit-progress-bar {\n",
       "        background: repeating-linear-gradient(45deg, #7e7e7e, #7e7e7e 10px, #5c5c5c 10px, #5c5c5c 20px);\n",
       "    }\n",
       "    .progress-bar-interrupted, .progress-bar-interrupted::-webkit-progress-bar {\n",
       "        background: #F44336;\n",
       "    }\n",
       "</style>\n"
      ],
      "text/plain": [
       "<IPython.core.display.HTML object>"
      ]
     },
     "metadata": {},
     "output_type": "display_data"
    },
    {
     "data": {
      "text/html": [
       "<table border=\"1\" class=\"dataframe\">\n",
       "  <thead>\n",
       "    <tr style=\"text-align: left;\">\n",
       "      <th>epoch</th>\n",
       "      <th>train_loss</th>\n",
       "      <th>valid_loss</th>\n",
       "      <th>time</th>\n",
       "    </tr>\n",
       "  </thead>\n",
       "  <tbody>\n",
       "    <tr>\n",
       "      <td>0</td>\n",
       "      <td>5.414329</td>\n",
       "      <td>2.684663</td>\n",
       "      <td>00:29</td>\n",
       "    </tr>\n",
       "  </tbody>\n",
       "</table>"
      ],
      "text/plain": [
       "<IPython.core.display.HTML object>"
      ]
     },
     "metadata": {},
     "output_type": "display_data"
    },
    {
     "data": {
      "text/html": [
       "\n",
       "<style>\n",
       "    /* Turns off some styling */\n",
       "    progress {\n",
       "        /* gets rid of default border in Firefox and Opera. */\n",
       "        border: none;\n",
       "        /* Needs to be in here for Safari polyfill so background images work as expected. */\n",
       "        background-size: auto;\n",
       "    }\n",
       "    progress:not([value]), progress:not([value])::-webkit-progress-bar {\n",
       "        background: repeating-linear-gradient(45deg, #7e7e7e, #7e7e7e 10px, #5c5c5c 10px, #5c5c5c 20px);\n",
       "    }\n",
       "    .progress-bar-interrupted, .progress-bar-interrupted::-webkit-progress-bar {\n",
       "        background: #F44336;\n",
       "    }\n",
       "</style>\n"
      ],
      "text/plain": [
       "<IPython.core.display.HTML object>"
      ]
     },
     "metadata": {},
     "output_type": "display_data"
    },
    {
     "data": {
      "text/html": [
       "<table border=\"1\" class=\"dataframe\">\n",
       "  <thead>\n",
       "    <tr style=\"text-align: left;\">\n",
       "      <th>epoch</th>\n",
       "      <th>train_loss</th>\n",
       "      <th>valid_loss</th>\n",
       "      <th>time</th>\n",
       "    </tr>\n",
       "  </thead>\n",
       "  <tbody>\n",
       "    <tr>\n",
       "      <td>0</td>\n",
       "      <td>2.058925</td>\n",
       "      <td>1.420312</td>\n",
       "      <td>00:29</td>\n",
       "    </tr>\n",
       "    <tr>\n",
       "      <td>1</td>\n",
       "      <td>1.644060</td>\n",
       "      <td>1.824055</td>\n",
       "      <td>00:28</td>\n",
       "    </tr>\n",
       "    <tr>\n",
       "      <td>2</td>\n",
       "      <td>1.524662</td>\n",
       "      <td>1.225762</td>\n",
       "      <td>00:29</td>\n",
       "    </tr>\n",
       "    <tr>\n",
       "      <td>3</td>\n",
       "      <td>1.390998</td>\n",
       "      <td>1.088264</td>\n",
       "      <td>00:29</td>\n",
       "    </tr>\n",
       "    <tr>\n",
       "      <td>4</td>\n",
       "      <td>1.258042</td>\n",
       "      <td>0.920499</td>\n",
       "      <td>00:28</td>\n",
       "    </tr>\n",
       "    <tr>\n",
       "      <td>5</td>\n",
       "      <td>1.137929</td>\n",
       "      <td>0.820020</td>\n",
       "      <td>00:28</td>\n",
       "    </tr>\n",
       "    <tr>\n",
       "      <td>6</td>\n",
       "      <td>1.036798</td>\n",
       "      <td>0.781368</td>\n",
       "      <td>00:28</td>\n",
       "    </tr>\n",
       "    <tr>\n",
       "      <td>7</td>\n",
       "      <td>0.957417</td>\n",
       "      <td>0.777227</td>\n",
       "      <td>00:29</td>\n",
       "    </tr>\n",
       "  </tbody>\n",
       "</table>"
      ],
      "text/plain": [
       "<IPython.core.display.HTML object>"
      ]
     },
     "metadata": {},
     "output_type": "display_data"
    }
   ],
   "source": [
    "path = untar_data(URLs.CAMVID_TINY)\n",
    "dls = SegmentationDataLoaders.from_label_func(\n",
    "    path, bs=8, fnames = get_image_files(path/\"images\"),\n",
    "    label_func = lambda o: path/'labels'/f'{o.stem}_P{o.suffix}',\n",
    "    codes = np.loadtxt(path/'codes.txt', dtype=str)\n",
    ")\n",
    "\n",
    "learn = unet_learner(dls, resnet34)\n",
    "learn.fine_tune(8)\n"
   ]
  },
  {
   "cell_type": "code",
   "execution_count": 7,
   "id": "fed4de94",
   "metadata": {},
   "outputs": [
    {
     "data": {
      "text/html": [
       "\n",
       "<style>\n",
       "    /* Turns off some styling */\n",
       "    progress {\n",
       "        /* gets rid of default border in Firefox and Opera. */\n",
       "        border: none;\n",
       "        /* Needs to be in here for Safari polyfill so background images work as expected. */\n",
       "        background-size: auto;\n",
       "    }\n",
       "    progress:not([value]), progress:not([value])::-webkit-progress-bar {\n",
       "        background: repeating-linear-gradient(45deg, #7e7e7e, #7e7e7e 10px, #5c5c5c 10px, #5c5c5c 20px);\n",
       "    }\n",
       "    .progress-bar-interrupted, .progress-bar-interrupted::-webkit-progress-bar {\n",
       "        background: #F44336;\n",
       "    }\n",
       "</style>\n"
      ],
      "text/plain": [
       "<IPython.core.display.HTML object>"
      ]
     },
     "metadata": {},
     "output_type": "display_data"
    },
    {
     "data": {
      "text/html": [],
      "text/plain": [
       "<IPython.core.display.HTML object>"
      ]
     },
     "metadata": {},
     "output_type": "display_data"
    },
    {
     "data": {
      "image/png": "[encoded data removed]",
      "text/plain": [
       "<Figure size 700x800 with 12 Axes>"
      ]
     },
     "metadata": {},
     "output_type": "display_data"
    }
   ],
   "source": [
    "learn.show_results(max_n=6, figsize=(7,8))"
   ]
  },
  {
   "cell_type": "markdown",
   "id": "0123c903",
   "metadata": {},
   "source": [
    "TABULAR INPUT: We dont do the fine tuning here, we do fit_one_cycle to train a model from scratch"
   ]
  },
  {
   "cell_type": "code",
   "execution_count": 8,
   "id": "d677e0a6",
   "metadata": {},
   "outputs": [
    {
     "data": {
      "text/html": [
       "\n",
       "<style>\n",
       "    /* Turns off some styling */\n",
       "    progress {\n",
       "        /* gets rid of default border in Firefox and Opera. */\n",
       "        border: none;\n",
       "        /* Needs to be in here for Safari polyfill so background images work as expected. */\n",
       "        background-size: auto;\n",
       "    }\n",
       "    progress:not([value]), progress:not([value])::-webkit-progress-bar {\n",
       "        background: repeating-linear-gradient(45deg, #7e7e7e, #7e7e7e 10px, #5c5c5c 10px, #5c5c5c 20px);\n",
       "    }\n",
       "    .progress-bar-interrupted, .progress-bar-interrupted::-webkit-progress-bar {\n",
       "        background: #F44336;\n",
       "    }\n",
       "</style>\n"
      ],
      "text/plain": [
       "<IPython.core.display.HTML object>"
      ]
     },
     "metadata": {},
     "output_type": "display_data"
    },
    {
     "data": {
      "text/html": [
       "\n",
       "    <div>\n",
       "      <progress value='974848' class='' max='968212' style='width:300px; height:20px; vertical-align: middle;'></progress>\n",
       "      100.69% [974848/968212 00:01&lt;00:00]\n",
       "    </div>\n",
       "    "
      ],
      "text/plain": [
       "<IPython.core.display.HTML object>"
      ]
     },
     "metadata": {},
     "output_type": "display_data"
    }
   ],
   "source": [
    "from fastai.tabular.all import *\n",
    "path = untar_data(URLs.ADULT_SAMPLE)\n",
    "\n",
    "dls = TabularDataLoaders.from_csv(path/'adult.csv', path=path, y_names=\"salary\",\n",
    "    cat_names = ['workclass', 'education', 'marital-status', 'occupation',\n",
    "                 'relationship', 'race'],\n",
    "    cont_names = ['age', 'fnlwgt', 'education-num'],\n",
    "    procs = [Categorify, FillMissing, Normalize])\n",
    "\n",
    "learn = tabular_learner(dls, metrics=accuracy)"
   ]
  },
  {
   "cell_type": "code",
   "execution_count": 9,
   "id": "73232a4a",
   "metadata": {},
   "outputs": [
    {
     "data": {
      "text/html": [
       "\n",
       "<style>\n",
       "    /* Turns off some styling */\n",
       "    progress {\n",
       "        /* gets rid of default border in Firefox and Opera. */\n",
       "        border: none;\n",
       "        /* Needs to be in here for Safari polyfill so background images work as expected. */\n",
       "        background-size: auto;\n",
       "    }\n",
       "    progress:not([value]), progress:not([value])::-webkit-progress-bar {\n",
       "        background: repeating-linear-gradient(45deg, #7e7e7e, #7e7e7e 10px, #5c5c5c 10px, #5c5c5c 20px);\n",
       "    }\n",
       "    .progress-bar-interrupted, .progress-bar-interrupted::-webkit-progress-bar {\n",
       "        background: #F44336;\n",
       "    }\n",
       "</style>\n"
      ],
      "text/plain": [
       "<IPython.core.display.HTML object>"
      ]
     },
     "metadata": {},
     "output_type": "display_data"
    },
    {
     "data": {
      "text/html": [
       "<table border=\"1\" class=\"dataframe\">\n",
       "  <thead>\n",
       "    <tr style=\"text-align: left;\">\n",
       "      <th>epoch</th>\n",
       "      <th>train_loss</th>\n",
       "      <th>valid_loss</th>\n",
       "      <th>accuracy</th>\n",
       "      <th>time</th>\n",
       "    </tr>\n",
       "  </thead>\n",
       "  <tbody>\n",
       "    <tr>\n",
       "      <td>0</td>\n",
       "      <td>0.388369</td>\n",
       "      <td>0.362785</td>\n",
       "      <td>0.833231</td>\n",
       "      <td>00:05</td>\n",
       "    </tr>\n",
       "    <tr>\n",
       "      <td>1</td>\n",
       "      <td>0.362705</td>\n",
       "      <td>0.351406</td>\n",
       "      <td>0.837838</td>\n",
       "      <td>00:04</td>\n",
       "    </tr>\n",
       "    <tr>\n",
       "      <td>2</td>\n",
       "      <td>0.349552</td>\n",
       "      <td>0.346842</td>\n",
       "      <td>0.840602</td>\n",
       "      <td>00:04</td>\n",
       "    </tr>\n",
       "  </tbody>\n",
       "</table>"
      ],
      "text/plain": [
       "<IPython.core.display.HTML object>"
      ]
     },
     "metadata": {},
     "output_type": "display_data"
    }
   ],
   "source": [
    "learn.fit_one_cycle(3)\n"
   ]
  },
  {
   "cell_type": "code",
   "execution_count": 10,
   "id": "f5f5ca44",
   "metadata": {},
   "outputs": [],
   "source": [
    "################################"
   ]
  },
  {
   "cell_type": "markdown",
   "id": "95ad6b76",
   "metadata": {},
   "source": [
    "Validation Sets and Test Sets"
   ]
  },
  {
   "cell_type": "markdown",
   "id": "d949be91",
   "metadata": {},
   "source": [
    "To put it bluntly, if you're a senior decision maker in your organization (or you're advising senior decision makers), the most important takeaway is this: if you ensure that you really understand what test and validation sets are and why they're important, then you'll avoid the single biggest source of failures we've seen when organizations decide to use AI. For instance, if you're considering bringing in an external vendor or service, make sure that you hold out some test data that the vendor never gets to see. Then you check their model on your test data, using a metric that you choose based on what actually matters to you in practice, and you decide what level of performance is adequate. (It's also a good idea for you to try out some simple baseline yourself, so you know what a really simple model can achieve. Often it'll turn out that your simple model performs just as well as one produced by an external \"expert\"!)"
   ]
  },
  {
   "cell_type": "code",
   "execution_count": 1,
   "id": "9a0b1b30",
   "metadata": {},
   "outputs": [],
   "source": [
    "#############"
   ]
  },
  {
   "cell_type": "markdown",
   "id": "c943d4cb",
   "metadata": {},
   "source": [
    "# MNIST BASICS"
   ]
  },
  {
   "cell_type": "code",
   "execution_count": 15,
   "id": "a82bf8bf",
   "metadata": {},
   "outputs": [],
   "source": [
    "import fastai\n",
    "from fastai.vision.all import *\n",
    "\n",
    "path = untar_data(URLs.MNIST_SAMPLE)"
   ]
  },
  {
   "cell_type": "code",
   "execution_count": 16,
   "id": "f25dbc8e",
   "metadata": {},
   "outputs": [],
   "source": [
    "Path.BASE_PATH = path"
   ]
  },
  {
   "cell_type": "code",
   "execution_count": 17,
   "id": "ecc4579a",
   "metadata": {},
   "outputs": [
    {
     "data": {
      "text/plain": [
       "(#3) [Path('labels.csv'),Path('train'),Path('valid')]"
      ]
     },
     "execution_count": 17,
     "metadata": {},
     "output_type": "execute_result"
    }
   ],
   "source": [
    "path.ls()"
   ]
  },
  {
   "cell_type": "code",
   "execution_count": 18,
   "id": "3cc84d0f",
   "metadata": {},
   "outputs": [
    {
     "data": {
      "text/plain": [
       "(#2) [Path('train/3'),Path('train/7')]"
      ]
     },
     "execution_count": 18,
     "metadata": {},
     "output_type": "execute_result"
    }
   ],
   "source": [
    "(path/'train').ls()"
   ]
  },
  {
   "cell_type": "code",
   "execution_count": 19,
   "id": "3b251d54",
   "metadata": {},
   "outputs": [
    {
     "name": "stdout",
     "output_type": "stream",
     "text": [
      "6265\n",
      "6131\n"
     ]
    }
   ],
   "source": [
    "threes = (path/'train'/'3').ls().sorted()\n",
    "sevens = (path/'train'/'7').ls().sorted()\n",
    "number_of_sevens = len(sevens)\n",
    "print(number_of_sevens)\n",
    "teen_kitne = len(threes)\n",
    "print(teen_kitne)"
   ]
  },
  {
   "cell_type": "code",
   "execution_count": 20,
   "id": "512bfef4",
   "metadata": {},
   "outputs": [
    {
     "data": {
      "image/png": "[encoded data removed]",
      "text/plain": [
       "<PIL.PngImagePlugin.PngImageFile image mode=L size=28x28>"
      ]
     },
     "execution_count": 20,
     "metadata": {},
     "output_type": "execute_result"
    }
   ],
   "source": [
    "im7_path = sevens[6264]\n",
    "im7 = Image.open(im7_path) # Image class used from PIL\n",
    "im7"
   ]
  },
  {
   "cell_type": "markdown",
   "id": "cae1bbba",
   "metadata": {},
   "source": [
    "In a computer, everything is represented as a number. To view the numbers that make up this image, we have to convert it to a NumPy array or a PyTorch tensor. For instance, here's what a section of the image looks like, converted to a NumPy array:"
   ]
  },
  {
   "cell_type": "code",
   "execution_count": 21,
   "id": "151c282d",
   "metadata": {},
   "outputs": [
    {
     "data": {
      "text/plain": [
       "tensor([[0, 0, 0, 0, 0, 0],\n",
       "        [0, 0, 0, 0, 0, 0],\n",
       "        [0, 0, 0, 0, 0, 0],\n",
       "        [0, 0, 0, 0, 0, 0],\n",
       "        [0, 0, 0, 0, 0, 0],\n",
       "        [0, 0, 0, 0, 0, 9]], dtype=torch.uint8)"
      ]
     },
     "execution_count": 21,
     "metadata": {},
     "output_type": "execute_result"
    }
   ],
   "source": [
    "tensor(im7)[4:10, 4:10]"
   ]
  },
  {
   "cell_type": "code",
   "execution_count": 22,
   "id": "a0470da2",
   "metadata": {
    "scrolled": false
   },
   "outputs": [
    {
     "data": {
      "text/html": [
       "<style type=\"text/css\">\n",
       "#T_96a91_row0_col0, #T_96a91_row0_col1, #T_96a91_row0_col2, #T_96a91_row0_col3, #T_96a91_row0_col4, #T_96a91_row0_col5, #T_96a91_row0_col6, #T_96a91_row0_col7, #T_96a91_row0_col8, #T_96a91_row0_col9, #T_96a91_row0_col10, #T_96a91_row0_col11, #T_96a91_row0_col12, #T_96a91_row0_col13, #T_96a91_row0_col14, #T_96a91_row0_col15, #T_96a91_row0_col16, #T_96a91_row0_col17, #T_96a91_row0_col18, #T_96a91_row0_col19, #T_96a91_row0_col20, #T_96a91_row0_col21, #T_96a91_row0_col22, #T_96a91_row1_col0, #T_96a91_row1_col1, #T_96a91_row1_col2, #T_96a91_row1_col3, #T_96a91_row1_col4, #T_96a91_row1_col5, #T_96a91_row1_col6, #T_96a91_row1_col7, #T_96a91_row1_col8, #T_96a91_row1_col9, #T_96a91_row1_col10, #T_96a91_row1_col11, #T_96a91_row1_col12, #T_96a91_row1_col13, #T_96a91_row1_col14, #T_96a91_row1_col15, #T_96a91_row1_col16, #T_96a91_row1_col17, #T_96a91_row1_col18, #T_96a91_row1_col19, #T_96a91_row1_col20, #T_96a91_row1_col21, #T_96a91_row1_col22, #T_96a91_row2_col0, #T_96a91_row2_col1, #T_96a91_row2_col2, #T_96a91_row2_col3, #T_96a91_row2_col4, #T_96a91_row2_col5, #T_96a91_row2_col6, #T_96a91_row2_col7, #T_96a91_row2_col17, #T_96a91_row2_col18, #T_96a91_row2_col19, #T_96a91_row2_col20, #T_96a91_row2_col21, #T_96a91_row2_col22, #T_96a91_row3_col0, #T_96a91_row3_col1, #T_96a91_row3_col2, #T_96a91_row3_col3, #T_96a91_row3_col4, #T_96a91_row3_col5, #T_96a91_row3_col6, #T_96a91_row3_col18, #T_96a91_row3_col19, #T_96a91_row3_col20, #T_96a91_row3_col21, #T_96a91_row3_col22, #T_96a91_row4_col0, #T_96a91_row4_col1, #T_96a91_row4_col2, #T_96a91_row4_col3, #T_96a91_row4_col4, #T_96a91_row4_col13, #T_96a91_row4_col18, #T_96a91_row4_col19, #T_96a91_row4_col20, #T_96a91_row4_col21, #T_96a91_row4_col22, #T_96a91_row5_col0, #T_96a91_row5_col1, #T_96a91_row5_col2, #T_96a91_row5_col3, #T_96a91_row5_col4, #T_96a91_row5_col12, #T_96a91_row5_col13, #T_96a91_row5_col18, #T_96a91_row5_col19, #T_96a91_row5_col20, #T_96a91_row5_col21, #T_96a91_row5_col22, #T_96a91_row6_col0, #T_96a91_row6_col1, #T_96a91_row6_col2, #T_96a91_row6_col3, #T_96a91_row6_col11, #T_96a91_row6_col12, #T_96a91_row6_col17, #T_96a91_row6_col18, #T_96a91_row6_col19, #T_96a91_row6_col20, #T_96a91_row6_col21, #T_96a91_row6_col22, #T_96a91_row7_col0, #T_96a91_row7_col1, #T_96a91_row7_col2, #T_96a91_row7_col3, #T_96a91_row7_col4, #T_96a91_row7_col9, #T_96a91_row7_col10, #T_96a91_row7_col11, #T_96a91_row7_col16, #T_96a91_row7_col17, #T_96a91_row7_col18, #T_96a91_row7_col19, #T_96a91_row7_col20, #T_96a91_row7_col21, #T_96a91_row7_col22, #T_96a91_row8_col0, #T_96a91_row8_col1, #T_96a91_row8_col2, #T_96a91_row8_col3, #T_96a91_row8_col4, #T_96a91_row8_col8, #T_96a91_row8_col9, #T_96a91_row8_col10, #T_96a91_row8_col11, #T_96a91_row8_col16, #T_96a91_row8_col17, #T_96a91_row8_col18, #T_96a91_row8_col19, #T_96a91_row8_col20, #T_96a91_row8_col21, #T_96a91_row8_col22, #T_96a91_row9_col0, #T_96a91_row9_col1, #T_96a91_row9_col2, #T_96a91_row9_col3, #T_96a91_row9_col4, #T_96a91_row9_col5, #T_96a91_row9_col6, #T_96a91_row9_col7, #T_96a91_row9_col8, #T_96a91_row9_col9, #T_96a91_row9_col10, #T_96a91_row9_col16, #T_96a91_row9_col17, #T_96a91_row9_col18, #T_96a91_row9_col19, #T_96a91_row9_col20, #T_96a91_row9_col21, #T_96a91_row9_col22, #T_96a91_row10_col0, #T_96a91_row10_col1, #T_96a91_row10_col2, #T_96a91_row10_col3, #T_96a91_row10_col4, #T_96a91_row10_col5, #T_96a91_row10_col6, #T_96a91_row10_col7, #T_96a91_row10_col8, #T_96a91_row10_col9, #T_96a91_row10_col10, #T_96a91_row10_col15, #T_96a91_row10_col16, #T_96a91_row10_col17, #T_96a91_row10_col18, #T_96a91_row10_col19, #T_96a91_row10_col20, #T_96a91_row10_col21, #T_96a91_row10_col22, #T_96a91_row11_col0, #T_96a91_row11_col1, #T_96a91_row11_col2, #T_96a91_row11_col3, #T_96a91_row11_col4, #T_96a91_row11_col5, #T_96a91_row11_col6, #T_96a91_row11_col7, #T_96a91_row11_col8, #T_96a91_row11_col9, #T_96a91_row11_col14, #T_96a91_row11_col15, #T_96a91_row11_col16, #T_96a91_row11_col17, #T_96a91_row11_col18, #T_96a91_row11_col19, #T_96a91_row11_col20, #T_96a91_row11_col21, #T_96a91_row11_col22, #T_96a91_row12_col0, #T_96a91_row12_col1, #T_96a91_row12_col2, #T_96a91_row12_col3, #T_96a91_row12_col4, #T_96a91_row12_col5, #T_96a91_row12_col6, #T_96a91_row12_col7, #T_96a91_row12_col8, #T_96a91_row12_col13, #T_96a91_row12_col14, #T_96a91_row12_col15, #T_96a91_row12_col16, #T_96a91_row12_col17, #T_96a91_row12_col18, #T_96a91_row12_col19, #T_96a91_row12_col20, #T_96a91_row12_col21, #T_96a91_row12_col22, #T_96a91_row13_col0, #T_96a91_row13_col1, #T_96a91_row13_col2, #T_96a91_row13_col3, #T_96a91_row13_col4, #T_96a91_row13_col5, #T_96a91_row13_col6, #T_96a91_row13_col7, #T_96a91_row13_col13, #T_96a91_row13_col14, #T_96a91_row13_col15, #T_96a91_row13_col16, #T_96a91_row13_col17, #T_96a91_row13_col18, #T_96a91_row13_col19, #T_96a91_row13_col20, #T_96a91_row13_col21, #T_96a91_row13_col22, #T_96a91_row14_col0, #T_96a91_row14_col1, #T_96a91_row14_col2, #T_96a91_row14_col3, #T_96a91_row14_col4, #T_96a91_row14_col5, #T_96a91_row14_col6, #T_96a91_row14_col7, #T_96a91_row14_col12, #T_96a91_row14_col13, #T_96a91_row14_col14, #T_96a91_row14_col15, #T_96a91_row14_col16, #T_96a91_row14_col17, #T_96a91_row14_col18, #T_96a91_row14_col19, #T_96a91_row14_col20, #T_96a91_row14_col21, #T_96a91_row14_col22, #T_96a91_row15_col0, #T_96a91_row15_col1, #T_96a91_row15_col2, #T_96a91_row15_col3, #T_96a91_row15_col4, #T_96a91_row15_col5, #T_96a91_row15_col6, #T_96a91_row15_col11, #T_96a91_row15_col12, #T_96a91_row15_col13, #T_96a91_row15_col14, #T_96a91_row15_col15, #T_96a91_row15_col16, #T_96a91_row15_col17, #T_96a91_row15_col18, #T_96a91_row15_col19, #T_96a91_row15_col20, #T_96a91_row15_col21, #T_96a91_row15_col22, #T_96a91_row16_col0, #T_96a91_row16_col1, #T_96a91_row16_col2, #T_96a91_row16_col3, #T_96a91_row16_col4, #T_96a91_row16_col5, #T_96a91_row16_col11, #T_96a91_row16_col12, #T_96a91_row16_col13, #T_96a91_row16_col14, #T_96a91_row16_col15, #T_96a91_row16_col16, #T_96a91_row16_col17, #T_96a91_row16_col18, #T_96a91_row16_col19, #T_96a91_row16_col20, #T_96a91_row16_col21, #T_96a91_row16_col22, #T_96a91_row17_col0, #T_96a91_row17_col1, #T_96a91_row17_col2, #T_96a91_row17_col3, #T_96a91_row17_col4, #T_96a91_row17_col11, #T_96a91_row17_col12, #T_96a91_row17_col13, #T_96a91_row17_col14, #T_96a91_row17_col15, #T_96a91_row17_col16, #T_96a91_row17_col17, #T_96a91_row17_col18, #T_96a91_row17_col19, #T_96a91_row17_col20, #T_96a91_row17_col21, #T_96a91_row17_col22, #T_96a91_row18_col0, #T_96a91_row18_col1, #T_96a91_row18_col2, #T_96a91_row18_col3, #T_96a91_row18_col4, #T_96a91_row18_col10, #T_96a91_row18_col11, #T_96a91_row18_col12, #T_96a91_row18_col13, #T_96a91_row18_col14, #T_96a91_row18_col15, #T_96a91_row18_col16, #T_96a91_row18_col17, #T_96a91_row18_col18, #T_96a91_row18_col19, #T_96a91_row18_col20, #T_96a91_row18_col21, #T_96a91_row18_col22, #T_96a91_row19_col0, #T_96a91_row19_col1, #T_96a91_row19_col2, #T_96a91_row19_col3, #T_96a91_row19_col9, #T_96a91_row19_col10, #T_96a91_row19_col11, #T_96a91_row19_col12, #T_96a91_row19_col13, #T_96a91_row19_col14, #T_96a91_row19_col15, #T_96a91_row19_col16, #T_96a91_row19_col17, #T_96a91_row19_col18, #T_96a91_row19_col19, #T_96a91_row19_col20, #T_96a91_row19_col21, #T_96a91_row19_col22, #T_96a91_row20_col0, #T_96a91_row20_col1, #T_96a91_row20_col2, #T_96a91_row20_col3, #T_96a91_row20_col8, #T_96a91_row20_col9, #T_96a91_row20_col10, #T_96a91_row20_col11, #T_96a91_row20_col12, #T_96a91_row20_col13, #T_96a91_row20_col14, #T_96a91_row20_col15, #T_96a91_row20_col16, #T_96a91_row20_col17, #T_96a91_row20_col18, #T_96a91_row20_col19, #T_96a91_row20_col20, #T_96a91_row20_col21, #T_96a91_row20_col22, #T_96a91_row21_col0, #T_96a91_row21_col1, #T_96a91_row21_col2, #T_96a91_row21_col3, #T_96a91_row21_col8, #T_96a91_row21_col9, #T_96a91_row21_col10, #T_96a91_row21_col11, #T_96a91_row21_col12, #T_96a91_row21_col13, #T_96a91_row21_col14, #T_96a91_row21_col15, #T_96a91_row21_col16, #T_96a91_row21_col17, #T_96a91_row21_col18, #T_96a91_row21_col19, #T_96a91_row21_col20, #T_96a91_row21_col21, #T_96a91_row21_col22 {\n",
       "  front-size: 8pt;\n",
       "  background-color: #ffffff;\n",
       "  color: #000000;\n",
       "}\n",
       "#T_96a91_row2_col8, #T_96a91_row9_col15, #T_96a91_row16_col10 {\n",
       "  front-size: 8pt;\n",
       "  background-color: #fafafa;\n",
       "  color: #000000;\n",
       "}\n",
       "#T_96a91_row2_col9 {\n",
       "  front-size: 8pt;\n",
       "  background-color: #d7d7d7;\n",
       "  color: #000000;\n",
       "}\n",
       "#T_96a91_row2_col10 {\n",
       "  front-size: 8pt;\n",
       "  background-color: #cdcdcd;\n",
       "  color: #000000;\n",
       "}\n",
       "#T_96a91_row2_col11 {\n",
       "  front-size: 8pt;\n",
       "  background-color: #909090;\n",
       "  color: #f1f1f1;\n",
       "}\n",
       "#T_96a91_row2_col12 {\n",
       "  front-size: 8pt;\n",
       "  background-color: #3f3f3f;\n",
       "  color: #f1f1f1;\n",
       "}\n",
       "#T_96a91_row2_col13, #T_96a91_row2_col14, #T_96a91_row2_col15, #T_96a91_row3_col9, #T_96a91_row3_col10, #T_96a91_row4_col8, #T_96a91_row4_col9, #T_96a91_row4_col10, #T_96a91_row4_col16, #T_96a91_row4_col17, #T_96a91_row5_col6, #T_96a91_row5_col7, #T_96a91_row5_col8, #T_96a91_row5_col9, #T_96a91_row6_col6, #T_96a91_row6_col7, #T_96a91_row7_col6, #T_96a91_row10_col12, #T_96a91_row11_col12, #T_96a91_row12_col11, #T_96a91_row13_col10, #T_96a91_row14_col9, #T_96a91_row14_col10, #T_96a91_row15_col9, #T_96a91_row16_col8, #T_96a91_row16_col9, #T_96a91_row17_col7, #T_96a91_row17_col8, #T_96a91_row18_col6, #T_96a91_row18_col7, #T_96a91_row19_col6, #T_96a91_row20_col4, #T_96a91_row20_col5, #T_96a91_row20_col6 {\n",
       "  front-size: 8pt;\n",
       "  background-color: #000000;\n",
       "  color: #f1f1f1;\n",
       "}\n",
       "#T_96a91_row2_col16 {\n",
       "  front-size: 8pt;\n",
       "  background-color: #999999;\n",
       "  color: #f1f1f1;\n",
       "}\n",
       "#T_96a91_row3_col7 {\n",
       "  front-size: 8pt;\n",
       "  background-color: #dbdbdb;\n",
       "  color: #000000;\n",
       "}\n",
       "#T_96a91_row3_col8, #T_96a91_row6_col15 {\n",
       "  front-size: 8pt;\n",
       "  background-color: #111111;\n",
       "  color: #f1f1f1;\n",
       "}\n",
       "#T_96a91_row3_col11, #T_96a91_row3_col12 {\n",
       "  front-size: 8pt;\n",
       "  background-color: #020202;\n",
       "  color: #f1f1f1;\n",
       "}\n",
       "#T_96a91_row3_col13, #T_96a91_row17_col6 {\n",
       "  front-size: 8pt;\n",
       "  background-color: #333333;\n",
       "  color: #f1f1f1;\n",
       "}\n",
       "#T_96a91_row3_col14 {\n",
       "  front-size: 8pt;\n",
       "  background-color: #8d8d8d;\n",
       "  color: #f1f1f1;\n",
       "}\n",
       "#T_96a91_row3_col15, #T_96a91_row4_col15, #T_96a91_row5_col15, #T_96a91_row7_col14, #T_96a91_row8_col13, #T_96a91_row8_col14, #T_96a91_row9_col13 {\n",
       "  front-size: 8pt;\n",
       "  background-color: #010101;\n",
       "  color: #f1f1f1;\n",
       "}\n",
       "#T_96a91_row3_col16 {\n",
       "  front-size: 8pt;\n",
       "  background-color: #545454;\n",
       "  color: #f1f1f1;\n",
       "}\n",
       "#T_96a91_row3_col17, #T_96a91_row8_col12, #T_96a91_row21_col7 {\n",
       "  front-size: 8pt;\n",
       "  background-color: #f3f3f3;\n",
       "  color: #000000;\n",
       "}\n",
       "#T_96a91_row4_col5, #T_96a91_row6_col13, #T_96a91_row8_col7 {\n",
       "  front-size: 8pt;\n",
       "  background-color: #fbfbfb;\n",
       "  color: #000000;\n",
       "}\n",
       "#T_96a91_row4_col6, #T_96a91_row5_col14 {\n",
       "  front-size: 8pt;\n",
       "  background-color: #939393;\n",
       "  color: #f1f1f1;\n",
       "}\n",
       "#T_96a91_row4_col7 {\n",
       "  front-size: 8pt;\n",
       "  background-color: #151515;\n",
       "  color: #f1f1f1;\n",
       "}\n",
       "#T_96a91_row4_col11 {\n",
       "  front-size: 8pt;\n",
       "  background-color: #1f1f1f;\n",
       "  color: #f1f1f1;\n",
       "}\n",
       "#T_96a91_row4_col12 {\n",
       "  front-size: 8pt;\n",
       "  background-color: #c4c4c4;\n",
       "  color: #000000;\n",
       "}\n",
       "#T_96a91_row4_col14, #T_96a91_row8_col6, #T_96a91_row10_col14, #T_96a91_row20_col7 {\n",
       "  front-size: 8pt;\n",
       "  background-color: #e4e4e4;\n",
       "  color: #000000;\n",
       "}\n",
       "#T_96a91_row5_col5 {\n",
       "  front-size: 8pt;\n",
       "  background-color: #858585;\n",
       "  color: #f1f1f1;\n",
       "}\n",
       "#T_96a91_row5_col10, #T_96a91_row15_col10 {\n",
       "  front-size: 8pt;\n",
       "  background-color: #393939;\n",
       "  color: #f1f1f1;\n",
       "}\n",
       "#T_96a91_row5_col11 {\n",
       "  front-size: 8pt;\n",
       "  background-color: #eaeaea;\n",
       "  color: #000000;\n",
       "}\n",
       "#T_96a91_row5_col16 {\n",
       "  front-size: 8pt;\n",
       "  background-color: #3c3c3c;\n",
       "  color: #f1f1f1;\n",
       "}\n",
       "#T_96a91_row5_col17 {\n",
       "  front-size: 8pt;\n",
       "  background-color: #c6c6c6;\n",
       "  color: #000000;\n",
       "}\n",
       "#T_96a91_row6_col4, #T_96a91_row7_col8 {\n",
       "  front-size: 8pt;\n",
       "  background-color: #ececec;\n",
       "  color: #000000;\n",
       "}\n",
       "#T_96a91_row6_col5 {\n",
       "  front-size: 8pt;\n",
       "  background-color: #2c2c2c;\n",
       "  color: #f1f1f1;\n",
       "}\n",
       "#T_96a91_row6_col8 {\n",
       "  front-size: 8pt;\n",
       "  background-color: #1b1b1b;\n",
       "  color: #f1f1f1;\n",
       "}\n",
       "#T_96a91_row6_col9 {\n",
       "  front-size: 8pt;\n",
       "  background-color: #c7c7c7;\n",
       "  color: #000000;\n",
       "}\n",
       "#T_96a91_row6_col10, #T_96a91_row18_col9, #T_96a91_row19_col8 {\n",
       "  front-size: 8pt;\n",
       "  background-color: #fdfdfd;\n",
       "  color: #000000;\n",
       "}\n",
       "#T_96a91_row6_col14 {\n",
       "  front-size: 8pt;\n",
       "  background-color: #525252;\n",
       "  color: #f1f1f1;\n",
       "}\n",
       "#T_96a91_row6_col16 {\n",
       "  front-size: 8pt;\n",
       "  background-color: #cacaca;\n",
       "  color: #000000;\n",
       "}\n",
       "#T_96a91_row7_col5 {\n",
       "  front-size: 8pt;\n",
       "  background-color: #7f7f7f;\n",
       "  color: #f1f1f1;\n",
       "}\n",
       "#T_96a91_row7_col7 {\n",
       "  front-size: 8pt;\n",
       "  background-color: #787878;\n",
       "  color: #f1f1f1;\n",
       "}\n",
       "#T_96a91_row7_col12 {\n",
       "  front-size: 8pt;\n",
       "  background-color: #fcfcfc;\n",
       "  color: #000000;\n",
       "}\n",
       "#T_96a91_row7_col13 {\n",
       "  front-size: 8pt;\n",
       "  background-color: #767676;\n",
       "  color: #f1f1f1;\n",
       "}\n",
       "#T_96a91_row7_col15 {\n",
       "  front-size: 8pt;\n",
       "  background-color: #4e4e4e;\n",
       "  color: #f1f1f1;\n",
       "}\n",
       "#T_96a91_row8_col5 {\n",
       "  front-size: 8pt;\n",
       "  background-color: #f9f9f9;\n",
       "  color: #000000;\n",
       "}\n",
       "#T_96a91_row8_col15 {\n",
       "  front-size: 8pt;\n",
       "  background-color: #7b7b7b;\n",
       "  color: #f1f1f1;\n",
       "}\n",
       "#T_96a91_row9_col11 {\n",
       "  front-size: 8pt;\n",
       "  background-color: #e2e2e2;\n",
       "  color: #000000;\n",
       "}\n",
       "#T_96a91_row9_col12 {\n",
       "  front-size: 8pt;\n",
       "  background-color: #676767;\n",
       "  color: #f1f1f1;\n",
       "}\n",
       "#T_96a91_row9_col14 {\n",
       "  front-size: 8pt;\n",
       "  background-color: #6d6d6d;\n",
       "  color: #f1f1f1;\n",
       "}\n",
       "#T_96a91_row10_col11 {\n",
       "  front-size: 8pt;\n",
       "  background-color: #919191;\n",
       "  color: #f1f1f1;\n",
       "}\n",
       "#T_96a91_row10_col13 {\n",
       "  front-size: 8pt;\n",
       "  background-color: #141414;\n",
       "  color: #f1f1f1;\n",
       "}\n",
       "#T_96a91_row11_col10 {\n",
       "  front-size: 8pt;\n",
       "  background-color: #a3a3a3;\n",
       "  color: #f1f1f1;\n",
       "}\n",
       "#T_96a91_row11_col11 {\n",
       "  front-size: 8pt;\n",
       "  background-color: #080808;\n",
       "  color: #f1f1f1;\n",
       "}\n",
       "#T_96a91_row11_col13 {\n",
       "  front-size: 8pt;\n",
       "  background-color: #737373;\n",
       "  color: #f1f1f1;\n",
       "}\n",
       "#T_96a91_row12_col9 {\n",
       "  front-size: 8pt;\n",
       "  background-color: #d8d8d8;\n",
       "  color: #000000;\n",
       "}\n",
       "#T_96a91_row12_col10 {\n",
       "  front-size: 8pt;\n",
       "  background-color: #050505;\n",
       "  color: #f1f1f1;\n",
       "}\n",
       "#T_96a91_row12_col12 {\n",
       "  front-size: 8pt;\n",
       "  background-color: #222222;\n",
       "  color: #f1f1f1;\n",
       "}\n",
       "#T_96a91_row13_col8 {\n",
       "  front-size: 8pt;\n",
       "  background-color: #dfdfdf;\n",
       "  color: #000000;\n",
       "}\n",
       "#T_96a91_row13_col9, #T_96a91_row19_col5 {\n",
       "  front-size: 8pt;\n",
       "  background-color: #0c0c0c;\n",
       "  color: #f1f1f1;\n",
       "}\n",
       "#T_96a91_row13_col11 {\n",
       "  front-size: 8pt;\n",
       "  background-color: #101010;\n",
       "  color: #f1f1f1;\n",
       "}\n",
       "#T_96a91_row13_col12 {\n",
       "  front-size: 8pt;\n",
       "  background-color: #b9b9b9;\n",
       "  color: #000000;\n",
       "}\n",
       "#T_96a91_row14_col8 {\n",
       "  front-size: 8pt;\n",
       "  background-color: #656565;\n",
       "  color: #f1f1f1;\n",
       "}\n",
       "#T_96a91_row14_col11 {\n",
       "  front-size: 8pt;\n",
       "  background-color: #b3b3b3;\n",
       "  color: #000000;\n",
       "}\n",
       "#T_96a91_row15_col7 {\n",
       "  front-size: 8pt;\n",
       "  background-color: #898989;\n",
       "  color: #f1f1f1;\n",
       "}\n",
       "#T_96a91_row15_col8 {\n",
       "  front-size: 8pt;\n",
       "  background-color: #0d0d0d;\n",
       "  color: #f1f1f1;\n",
       "}\n",
       "#T_96a91_row16_col6 {\n",
       "  front-size: 8pt;\n",
       "  background-color: #f7f7f7;\n",
       "  color: #000000;\n",
       "}\n",
       "#T_96a91_row16_col7 {\n",
       "  front-size: 8pt;\n",
       "  background-color: #2b2b2b;\n",
       "  color: #f1f1f1;\n",
       "}\n",
       "#T_96a91_row17_col5 {\n",
       "  front-size: 8pt;\n",
       "  background-color: #e5e5e5;\n",
       "  color: #000000;\n",
       "}\n",
       "#T_96a91_row17_col9 {\n",
       "  front-size: 8pt;\n",
       "  background-color: #cccccc;\n",
       "  color: #000000;\n",
       "}\n",
       "#T_96a91_row17_col10 {\n",
       "  front-size: 8pt;\n",
       "  background-color: #fefefe;\n",
       "  color: #000000;\n",
       "}\n",
       "#T_96a91_row18_col5 {\n",
       "  front-size: 8pt;\n",
       "  background-color: #b5b5b5;\n",
       "  color: #000000;\n",
       "}\n",
       "#T_96a91_row18_col8, #T_96a91_row19_col7 {\n",
       "  front-size: 8pt;\n",
       "  background-color: #8e8e8e;\n",
       "  color: #f1f1f1;\n",
       "}\n",
       "#T_96a91_row19_col4 {\n",
       "  front-size: 8pt;\n",
       "  background-color: #d5d5d5;\n",
       "  color: #000000;\n",
       "}\n",
       "#T_96a91_row21_col4 {\n",
       "  front-size: 8pt;\n",
       "  background-color: #e3e3e3;\n",
       "  color: #000000;\n",
       "}\n",
       "#T_96a91_row21_col5 {\n",
       "  front-size: 8pt;\n",
       "  background-color: #282828;\n",
       "  color: #f1f1f1;\n",
       "}\n",
       "#T_96a91_row21_col6 {\n",
       "  front-size: 8pt;\n",
       "  background-color: #292929;\n",
       "  color: #f1f1f1;\n",
       "}\n",
       "</style>\n",
       "<table id=\"T_96a91\">\n",
       "  <thead>\n",
       "    <tr>\n",
       "      <th class=\"blank level0\" >&nbsp;</th>\n",
       "      <th id=\"T_96a91_level0_col0\" class=\"col_heading level0 col0\" >0</th>\n",
       "      <th id=\"T_96a91_level0_col1\" class=\"col_heading level0 col1\" >1</th>\n",
       "      <th id=\"T_96a91_level0_col2\" class=\"col_heading level0 col2\" >2</th>\n",
       "      <th id=\"T_96a91_level0_col3\" class=\"col_heading level0 col3\" >3</th>\n",
       "      <th id=\"T_96a91_level0_col4\" class=\"col_heading level0 col4\" >4</th>\n",
       "      <th id=\"T_96a91_level0_col5\" class=\"col_heading level0 col5\" >5</th>\n",
       "      <th id=\"T_96a91_level0_col6\" class=\"col_heading level0 col6\" >6</th>\n",
       "      <th id=\"T_96a91_level0_col7\" class=\"col_heading level0 col7\" >7</th>\n",
       "      <th id=\"T_96a91_level0_col8\" class=\"col_heading level0 col8\" >8</th>\n",
       "      <th id=\"T_96a91_level0_col9\" class=\"col_heading level0 col9\" >9</th>\n",
       "      <th id=\"T_96a91_level0_col10\" class=\"col_heading level0 col10\" >10</th>\n",
       "      <th id=\"T_96a91_level0_col11\" class=\"col_heading level0 col11\" >11</th>\n",
       "      <th id=\"T_96a91_level0_col12\" class=\"col_heading level0 col12\" >12</th>\n",
       "      <th id=\"T_96a91_level0_col13\" class=\"col_heading level0 col13\" >13</th>\n",
       "      <th id=\"T_96a91_level0_col14\" class=\"col_heading level0 col14\" >14</th>\n",
       "      <th id=\"T_96a91_level0_col15\" class=\"col_heading level0 col15\" >15</th>\n",
       "      <th id=\"T_96a91_level0_col16\" class=\"col_heading level0 col16\" >16</th>\n",
       "      <th id=\"T_96a91_level0_col17\" class=\"col_heading level0 col17\" >17</th>\n",
       "      <th id=\"T_96a91_level0_col18\" class=\"col_heading level0 col18\" >18</th>\n",
       "      <th id=\"T_96a91_level0_col19\" class=\"col_heading level0 col19\" >19</th>\n",
       "      <th id=\"T_96a91_level0_col20\" class=\"col_heading level0 col20\" >20</th>\n",
       "      <th id=\"T_96a91_level0_col21\" class=\"col_heading level0 col21\" >21</th>\n",
       "      <th id=\"T_96a91_level0_col22\" class=\"col_heading level0 col22\" >22</th>\n",
       "    </tr>\n",
       "  </thead>\n",
       "  <tbody>\n",
       "    <tr>\n",
       "      <th id=\"T_96a91_level0_row0\" class=\"row_heading level0 row0\" >0</th>\n",
       "      <td id=\"T_96a91_row0_col0\" class=\"data row0 col0\" >0</td>\n",
       "      <td id=\"T_96a91_row0_col1\" class=\"data row0 col1\" >0</td>\n",
       "      <td id=\"T_96a91_row0_col2\" class=\"data row0 col2\" >0</td>\n",
       "      <td id=\"T_96a91_row0_col3\" class=\"data row0 col3\" >0</td>\n",
       "      <td id=\"T_96a91_row0_col4\" class=\"data row0 col4\" >0</td>\n",
       "      <td id=\"T_96a91_row0_col5\" class=\"data row0 col5\" >0</td>\n",
       "      <td id=\"T_96a91_row0_col6\" class=\"data row0 col6\" >0</td>\n",
       "      <td id=\"T_96a91_row0_col7\" class=\"data row0 col7\" >0</td>\n",
       "      <td id=\"T_96a91_row0_col8\" class=\"data row0 col8\" >0</td>\n",
       "      <td id=\"T_96a91_row0_col9\" class=\"data row0 col9\" >0</td>\n",
       "      <td id=\"T_96a91_row0_col10\" class=\"data row0 col10\" >0</td>\n",
       "      <td id=\"T_96a91_row0_col11\" class=\"data row0 col11\" >0</td>\n",
       "      <td id=\"T_96a91_row0_col12\" class=\"data row0 col12\" >0</td>\n",
       "      <td id=\"T_96a91_row0_col13\" class=\"data row0 col13\" >0</td>\n",
       "      <td id=\"T_96a91_row0_col14\" class=\"data row0 col14\" >0</td>\n",
       "      <td id=\"T_96a91_row0_col15\" class=\"data row0 col15\" >0</td>\n",
       "      <td id=\"T_96a91_row0_col16\" class=\"data row0 col16\" >0</td>\n",
       "      <td id=\"T_96a91_row0_col17\" class=\"data row0 col17\" >0</td>\n",
       "      <td id=\"T_96a91_row0_col18\" class=\"data row0 col18\" >0</td>\n",
       "      <td id=\"T_96a91_row0_col19\" class=\"data row0 col19\" >0</td>\n",
       "      <td id=\"T_96a91_row0_col20\" class=\"data row0 col20\" >0</td>\n",
       "      <td id=\"T_96a91_row0_col21\" class=\"data row0 col21\" >0</td>\n",
       "      <td id=\"T_96a91_row0_col22\" class=\"data row0 col22\" >0</td>\n",
       "    </tr>\n",
       "    <tr>\n",
       "      <th id=\"T_96a91_level0_row1\" class=\"row_heading level0 row1\" >1</th>\n",
       "      <td id=\"T_96a91_row1_col0\" class=\"data row1 col0\" >0</td>\n",
       "      <td id=\"T_96a91_row1_col1\" class=\"data row1 col1\" >0</td>\n",
       "      <td id=\"T_96a91_row1_col2\" class=\"data row1 col2\" >0</td>\n",
       "      <td id=\"T_96a91_row1_col3\" class=\"data row1 col3\" >0</td>\n",
       "      <td id=\"T_96a91_row1_col4\" class=\"data row1 col4\" >0</td>\n",
       "      <td id=\"T_96a91_row1_col5\" class=\"data row1 col5\" >0</td>\n",
       "      <td id=\"T_96a91_row1_col6\" class=\"data row1 col6\" >0</td>\n",
       "      <td id=\"T_96a91_row1_col7\" class=\"data row1 col7\" >0</td>\n",
       "      <td id=\"T_96a91_row1_col8\" class=\"data row1 col8\" >0</td>\n",
       "      <td id=\"T_96a91_row1_col9\" class=\"data row1 col9\" >0</td>\n",
       "      <td id=\"T_96a91_row1_col10\" class=\"data row1 col10\" >0</td>\n",
       "      <td id=\"T_96a91_row1_col11\" class=\"data row1 col11\" >0</td>\n",
       "      <td id=\"T_96a91_row1_col12\" class=\"data row1 col12\" >0</td>\n",
       "      <td id=\"T_96a91_row1_col13\" class=\"data row1 col13\" >0</td>\n",
       "      <td id=\"T_96a91_row1_col14\" class=\"data row1 col14\" >0</td>\n",
       "      <td id=\"T_96a91_row1_col15\" class=\"data row1 col15\" >0</td>\n",
       "      <td id=\"T_96a91_row1_col16\" class=\"data row1 col16\" >0</td>\n",
       "      <td id=\"T_96a91_row1_col17\" class=\"data row1 col17\" >0</td>\n",
       "      <td id=\"T_96a91_row1_col18\" class=\"data row1 col18\" >0</td>\n",
       "      <td id=\"T_96a91_row1_col19\" class=\"data row1 col19\" >0</td>\n",
       "      <td id=\"T_96a91_row1_col20\" class=\"data row1 col20\" >0</td>\n",
       "      <td id=\"T_96a91_row1_col21\" class=\"data row1 col21\" >0</td>\n",
       "      <td id=\"T_96a91_row1_col22\" class=\"data row1 col22\" >0</td>\n",
       "    </tr>\n",
       "    <tr>\n",
       "      <th id=\"T_96a91_level0_row2\" class=\"row_heading level0 row2\" >2</th>\n",
       "      <td id=\"T_96a91_row2_col0\" class=\"data row2 col0\" >0</td>\n",
       "      <td id=\"T_96a91_row2_col1\" class=\"data row2 col1\" >0</td>\n",
       "      <td id=\"T_96a91_row2_col2\" class=\"data row2 col2\" >0</td>\n",
       "      <td id=\"T_96a91_row2_col3\" class=\"data row2 col3\" >0</td>\n",
       "      <td id=\"T_96a91_row2_col4\" class=\"data row2 col4\" >0</td>\n",
       "      <td id=\"T_96a91_row2_col5\" class=\"data row2 col5\" >0</td>\n",
       "      <td id=\"T_96a91_row2_col6\" class=\"data row2 col6\" >0</td>\n",
       "      <td id=\"T_96a91_row2_col7\" class=\"data row2 col7\" >0</td>\n",
       "      <td id=\"T_96a91_row2_col8\" class=\"data row2 col8\" >11</td>\n",
       "      <td id=\"T_96a91_row2_col9\" class=\"data row2 col9\" >65</td>\n",
       "      <td id=\"T_96a91_row2_col10\" class=\"data row2 col10\" >76</td>\n",
       "      <td id=\"T_96a91_row2_col11\" class=\"data row2 col11\" >133</td>\n",
       "      <td id=\"T_96a91_row2_col12\" class=\"data row2 col12\" >202</td>\n",
       "      <td id=\"T_96a91_row2_col13\" class=\"data row2 col13\" >253</td>\n",
       "      <td id=\"T_96a91_row2_col14\" class=\"data row2 col14\" >253</td>\n",
       "      <td id=\"T_96a91_row2_col15\" class=\"data row2 col15\" >253</td>\n",
       "      <td id=\"T_96a91_row2_col16\" class=\"data row2 col16\" >124</td>\n",
       "      <td id=\"T_96a91_row2_col17\" class=\"data row2 col17\" >0</td>\n",
       "      <td id=\"T_96a91_row2_col18\" class=\"data row2 col18\" >0</td>\n",
       "      <td id=\"T_96a91_row2_col19\" class=\"data row2 col19\" >0</td>\n",
       "      <td id=\"T_96a91_row2_col20\" class=\"data row2 col20\" >0</td>\n",
       "      <td id=\"T_96a91_row2_col21\" class=\"data row2 col21\" >0</td>\n",
       "      <td id=\"T_96a91_row2_col22\" class=\"data row2 col22\" >0</td>\n",
       "    </tr>\n",
       "    <tr>\n",
       "      <th id=\"T_96a91_level0_row3\" class=\"row_heading level0 row3\" >3</th>\n",
       "      <td id=\"T_96a91_row3_col0\" class=\"data row3 col0\" >0</td>\n",
       "      <td id=\"T_96a91_row3_col1\" class=\"data row3 col1\" >0</td>\n",
       "      <td id=\"T_96a91_row3_col2\" class=\"data row3 col2\" >0</td>\n",
       "      <td id=\"T_96a91_row3_col3\" class=\"data row3 col3\" >0</td>\n",
       "      <td id=\"T_96a91_row3_col4\" class=\"data row3 col4\" >0</td>\n",
       "      <td id=\"T_96a91_row3_col5\" class=\"data row3 col5\" >0</td>\n",
       "      <td id=\"T_96a91_row3_col6\" class=\"data row3 col6\" >0</td>\n",
       "      <td id=\"T_96a91_row3_col7\" class=\"data row3 col7\" >61</td>\n",
       "      <td id=\"T_96a91_row3_col8\" class=\"data row3 col8\" >237</td>\n",
       "      <td id=\"T_96a91_row3_col9\" class=\"data row3 col9\" >252</td>\n",
       "      <td id=\"T_96a91_row3_col10\" class=\"data row3 col10\" >252</td>\n",
       "      <td id=\"T_96a91_row3_col11\" class=\"data row3 col11\" >253</td>\n",
       "      <td id=\"T_96a91_row3_col12\" class=\"data row3 col12\" >250</td>\n",
       "      <td id=\"T_96a91_row3_col13\" class=\"data row3 col13\" >211</td>\n",
       "      <td id=\"T_96a91_row3_col14\" class=\"data row3 col14\" >135</td>\n",
       "      <td id=\"T_96a91_row3_col15\" class=\"data row3 col15\" >252</td>\n",
       "      <td id=\"T_96a91_row3_col16\" class=\"data row3 col16\" >187</td>\n",
       "      <td id=\"T_96a91_row3_col17\" class=\"data row3 col17\" >5</td>\n",
       "      <td id=\"T_96a91_row3_col18\" class=\"data row3 col18\" >0</td>\n",
       "      <td id=\"T_96a91_row3_col19\" class=\"data row3 col19\" >0</td>\n",
       "      <td id=\"T_96a91_row3_col20\" class=\"data row3 col20\" >0</td>\n",
       "      <td id=\"T_96a91_row3_col21\" class=\"data row3 col21\" >0</td>\n",
       "      <td id=\"T_96a91_row3_col22\" class=\"data row3 col22\" >0</td>\n",
       "    </tr>\n",
       "    <tr>\n",
       "      <th id=\"T_96a91_level0_row4\" class=\"row_heading level0 row4\" >4</th>\n",
       "      <td id=\"T_96a91_row4_col0\" class=\"data row4 col0\" >0</td>\n",
       "      <td id=\"T_96a91_row4_col1\" class=\"data row4 col1\" >0</td>\n",
       "      <td id=\"T_96a91_row4_col2\" class=\"data row4 col2\" >0</td>\n",
       "      <td id=\"T_96a91_row4_col3\" class=\"data row4 col3\" >0</td>\n",
       "      <td id=\"T_96a91_row4_col4\" class=\"data row4 col4\" >0</td>\n",
       "      <td id=\"T_96a91_row4_col5\" class=\"data row4 col5\" >9</td>\n",
       "      <td id=\"T_96a91_row4_col6\" class=\"data row4 col6\" >128</td>\n",
       "      <td id=\"T_96a91_row4_col7\" class=\"data row4 col7\" >234</td>\n",
       "      <td id=\"T_96a91_row4_col8\" class=\"data row4 col8\" >252</td>\n",
       "      <td id=\"T_96a91_row4_col9\" class=\"data row4 col9\" >252</td>\n",
       "      <td id=\"T_96a91_row4_col10\" class=\"data row4 col10\" >252</td>\n",
       "      <td id=\"T_96a91_row4_col11\" class=\"data row4 col11\" >228</td>\n",
       "      <td id=\"T_96a91_row4_col12\" class=\"data row4 col12\" >87</td>\n",
       "      <td id=\"T_96a91_row4_col13\" class=\"data row4 col13\" >0</td>\n",
       "      <td id=\"T_96a91_row4_col14\" class=\"data row4 col14\" >49</td>\n",
       "      <td id=\"T_96a91_row4_col15\" class=\"data row4 col15\" >252</td>\n",
       "      <td id=\"T_96a91_row4_col16\" class=\"data row4 col16\" >252</td>\n",
       "      <td id=\"T_96a91_row4_col17\" class=\"data row4 col17\" >48</td>\n",
       "      <td id=\"T_96a91_row4_col18\" class=\"data row4 col18\" >0</td>\n",
       "      <td id=\"T_96a91_row4_col19\" class=\"data row4 col19\" >0</td>\n",
       "      <td id=\"T_96a91_row4_col20\" class=\"data row4 col20\" >0</td>\n",
       "      <td id=\"T_96a91_row4_col21\" class=\"data row4 col21\" >0</td>\n",
       "      <td id=\"T_96a91_row4_col22\" class=\"data row4 col22\" >0</td>\n",
       "    </tr>\n",
       "    <tr>\n",
       "      <th id=\"T_96a91_level0_row5\" class=\"row_heading level0 row5\" >5</th>\n",
       "      <td id=\"T_96a91_row5_col0\" class=\"data row5 col0\" >0</td>\n",
       "      <td id=\"T_96a91_row5_col1\" class=\"data row5 col1\" >0</td>\n",
       "      <td id=\"T_96a91_row5_col2\" class=\"data row5 col2\" >0</td>\n",
       "      <td id=\"T_96a91_row5_col3\" class=\"data row5 col3\" >0</td>\n",
       "      <td id=\"T_96a91_row5_col4\" class=\"data row5 col4\" >0</td>\n",
       "      <td id=\"T_96a91_row5_col5\" class=\"data row5 col5\" >141</td>\n",
       "      <td id=\"T_96a91_row5_col6\" class=\"data row5 col6\" >252</td>\n",
       "      <td id=\"T_96a91_row5_col7\" class=\"data row5 col7\" >252</td>\n",
       "      <td id=\"T_96a91_row5_col8\" class=\"data row5 col8\" >252</td>\n",
       "      <td id=\"T_96a91_row5_col9\" class=\"data row5 col9\" >252</td>\n",
       "      <td id=\"T_96a91_row5_col10\" class=\"data row5 col10\" >206</td>\n",
       "      <td id=\"T_96a91_row5_col11\" class=\"data row5 col11\" >40</td>\n",
       "      <td id=\"T_96a91_row5_col12\" class=\"data row5 col12\" >0</td>\n",
       "      <td id=\"T_96a91_row5_col13\" class=\"data row5 col13\" >0</td>\n",
       "      <td id=\"T_96a91_row5_col14\" class=\"data row5 col14\" >129</td>\n",
       "      <td id=\"T_96a91_row5_col15\" class=\"data row5 col15\" >252</td>\n",
       "      <td id=\"T_96a91_row5_col16\" class=\"data row5 col16\" >204</td>\n",
       "      <td id=\"T_96a91_row5_col17\" class=\"data row5 col17\" >16</td>\n",
       "      <td id=\"T_96a91_row5_col18\" class=\"data row5 col18\" >0</td>\n",
       "      <td id=\"T_96a91_row5_col19\" class=\"data row5 col19\" >0</td>\n",
       "      <td id=\"T_96a91_row5_col20\" class=\"data row5 col20\" >0</td>\n",
       "      <td id=\"T_96a91_row5_col21\" class=\"data row5 col21\" >0</td>\n",
       "      <td id=\"T_96a91_row5_col22\" class=\"data row5 col22\" >0</td>\n",
       "    </tr>\n",
       "    <tr>\n",
       "      <th id=\"T_96a91_level0_row6\" class=\"row_heading level0 row6\" >6</th>\n",
       "      <td id=\"T_96a91_row6_col0\" class=\"data row6 col0\" >0</td>\n",
       "      <td id=\"T_96a91_row6_col1\" class=\"data row6 col1\" >0</td>\n",
       "      <td id=\"T_96a91_row6_col2\" class=\"data row6 col2\" >0</td>\n",
       "      <td id=\"T_96a91_row6_col3\" class=\"data row6 col3\" >0</td>\n",
       "      <td id=\"T_96a91_row6_col4\" class=\"data row6 col4\" >24</td>\n",
       "      <td id=\"T_96a91_row6_col5\" class=\"data row6 col5\" >215</td>\n",
       "      <td id=\"T_96a91_row6_col6\" class=\"data row6 col6\" >252</td>\n",
       "      <td id=\"T_96a91_row6_col7\" class=\"data row6 col7\" >252</td>\n",
       "      <td id=\"T_96a91_row6_col8\" class=\"data row6 col8\" >229</td>\n",
       "      <td id=\"T_96a91_row6_col9\" class=\"data row6 col9\" >83</td>\n",
       "      <td id=\"T_96a91_row6_col10\" class=\"data row6 col10\" >4</td>\n",
       "      <td id=\"T_96a91_row6_col11\" class=\"data row6 col11\" >0</td>\n",
       "      <td id=\"T_96a91_row6_col12\" class=\"data row6 col12\" >0</td>\n",
       "      <td id=\"T_96a91_row6_col13\" class=\"data row6 col13\" >9</td>\n",
       "      <td id=\"T_96a91_row6_col14\" class=\"data row6 col14\" >189</td>\n",
       "      <td id=\"T_96a91_row6_col15\" class=\"data row6 col15\" >238</td>\n",
       "      <td id=\"T_96a91_row6_col16\" class=\"data row6 col16\" >80</td>\n",
       "      <td id=\"T_96a91_row6_col17\" class=\"data row6 col17\" >0</td>\n",
       "      <td id=\"T_96a91_row6_col18\" class=\"data row6 col18\" >0</td>\n",
       "      <td id=\"T_96a91_row6_col19\" class=\"data row6 col19\" >0</td>\n",
       "      <td id=\"T_96a91_row6_col20\" class=\"data row6 col20\" >0</td>\n",
       "      <td id=\"T_96a91_row6_col21\" class=\"data row6 col21\" >0</td>\n",
       "      <td id=\"T_96a91_row6_col22\" class=\"data row6 col22\" >0</td>\n",
       "    </tr>\n",
       "    <tr>\n",
       "      <th id=\"T_96a91_level0_row7\" class=\"row_heading level0 row7\" >7</th>\n",
       "      <td id=\"T_96a91_row7_col0\" class=\"data row7 col0\" >0</td>\n",
       "      <td id=\"T_96a91_row7_col1\" class=\"data row7 col1\" >0</td>\n",
       "      <td id=\"T_96a91_row7_col2\" class=\"data row7 col2\" >0</td>\n",
       "      <td id=\"T_96a91_row7_col3\" class=\"data row7 col3\" >0</td>\n",
       "      <td id=\"T_96a91_row7_col4\" class=\"data row7 col4\" >0</td>\n",
       "      <td id=\"T_96a91_row7_col5\" class=\"data row7 col5\" >146</td>\n",
       "      <td id=\"T_96a91_row7_col6\" class=\"data row7 col6\" >252</td>\n",
       "      <td id=\"T_96a91_row7_col7\" class=\"data row7 col7\" >153</td>\n",
       "      <td id=\"T_96a91_row7_col8\" class=\"data row7 col8\" >37</td>\n",
       "      <td id=\"T_96a91_row7_col9\" class=\"data row7 col9\" >0</td>\n",
       "      <td id=\"T_96a91_row7_col10\" class=\"data row7 col10\" >0</td>\n",
       "      <td id=\"T_96a91_row7_col11\" class=\"data row7 col11\" >0</td>\n",
       "      <td id=\"T_96a91_row7_col12\" class=\"data row7 col12\" >7</td>\n",
       "      <td id=\"T_96a91_row7_col13\" class=\"data row7 col13\" >156</td>\n",
       "      <td id=\"T_96a91_row7_col14\" class=\"data row7 col14\" >252</td>\n",
       "      <td id=\"T_96a91_row7_col15\" class=\"data row7 col15\" >192</td>\n",
       "      <td id=\"T_96a91_row7_col16\" class=\"data row7 col16\" >0</td>\n",
       "      <td id=\"T_96a91_row7_col17\" class=\"data row7 col17\" >0</td>\n",
       "      <td id=\"T_96a91_row7_col18\" class=\"data row7 col18\" >0</td>\n",
       "      <td id=\"T_96a91_row7_col19\" class=\"data row7 col19\" >0</td>\n",
       "      <td id=\"T_96a91_row7_col20\" class=\"data row7 col20\" >0</td>\n",
       "      <td id=\"T_96a91_row7_col21\" class=\"data row7 col21\" >0</td>\n",
       "      <td id=\"T_96a91_row7_col22\" class=\"data row7 col22\" >0</td>\n",
       "    </tr>\n",
       "    <tr>\n",
       "      <th id=\"T_96a91_level0_row8\" class=\"row_heading level0 row8\" >8</th>\n",
       "      <td id=\"T_96a91_row8_col0\" class=\"data row8 col0\" >0</td>\n",
       "      <td id=\"T_96a91_row8_col1\" class=\"data row8 col1\" >0</td>\n",
       "      <td id=\"T_96a91_row8_col2\" class=\"data row8 col2\" >0</td>\n",
       "      <td id=\"T_96a91_row8_col3\" class=\"data row8 col3\" >0</td>\n",
       "      <td id=\"T_96a91_row8_col4\" class=\"data row8 col4\" >0</td>\n",
       "      <td id=\"T_96a91_row8_col5\" class=\"data row8 col5\" >12</td>\n",
       "      <td id=\"T_96a91_row8_col6\" class=\"data row8 col6\" >48</td>\n",
       "      <td id=\"T_96a91_row8_col7\" class=\"data row8 col7\" >9</td>\n",
       "      <td id=\"T_96a91_row8_col8\" class=\"data row8 col8\" >0</td>\n",
       "      <td id=\"T_96a91_row8_col9\" class=\"data row8 col9\" >0</td>\n",
       "      <td id=\"T_96a91_row8_col10\" class=\"data row8 col10\" >0</td>\n",
       "      <td id=\"T_96a91_row8_col11\" class=\"data row8 col11\" >0</td>\n",
       "      <td id=\"T_96a91_row8_col12\" class=\"data row8 col12\" >25</td>\n",
       "      <td id=\"T_96a91_row8_col13\" class=\"data row8 col13\" >252</td>\n",
       "      <td id=\"T_96a91_row8_col14\" class=\"data row8 col14\" >252</td>\n",
       "      <td id=\"T_96a91_row8_col15\" class=\"data row8 col15\" >151</td>\n",
       "      <td id=\"T_96a91_row8_col16\" class=\"data row8 col16\" >0</td>\n",
       "      <td id=\"T_96a91_row8_col17\" class=\"data row8 col17\" >0</td>\n",
       "      <td id=\"T_96a91_row8_col18\" class=\"data row8 col18\" >0</td>\n",
       "      <td id=\"T_96a91_row8_col19\" class=\"data row8 col19\" >0</td>\n",
       "      <td id=\"T_96a91_row8_col20\" class=\"data row8 col20\" >0</td>\n",
       "      <td id=\"T_96a91_row8_col21\" class=\"data row8 col21\" >0</td>\n",
       "      <td id=\"T_96a91_row8_col22\" class=\"data row8 col22\" >0</td>\n",
       "    </tr>\n",
       "    <tr>\n",
       "      <th id=\"T_96a91_level0_row9\" class=\"row_heading level0 row9\" >9</th>\n",
       "      <td id=\"T_96a91_row9_col0\" class=\"data row9 col0\" >0</td>\n",
       "      <td id=\"T_96a91_row9_col1\" class=\"data row9 col1\" >0</td>\n",
       "      <td id=\"T_96a91_row9_col2\" class=\"data row9 col2\" >0</td>\n",
       "      <td id=\"T_96a91_row9_col3\" class=\"data row9 col3\" >0</td>\n",
       "      <td id=\"T_96a91_row9_col4\" class=\"data row9 col4\" >0</td>\n",
       "      <td id=\"T_96a91_row9_col5\" class=\"data row9 col5\" >0</td>\n",
       "      <td id=\"T_96a91_row9_col6\" class=\"data row9 col6\" >0</td>\n",
       "      <td id=\"T_96a91_row9_col7\" class=\"data row9 col7\" >0</td>\n",
       "      <td id=\"T_96a91_row9_col8\" class=\"data row9 col8\" >0</td>\n",
       "      <td id=\"T_96a91_row9_col9\" class=\"data row9 col9\" >0</td>\n",
       "      <td id=\"T_96a91_row9_col10\" class=\"data row9 col10\" >0</td>\n",
       "      <td id=\"T_96a91_row9_col11\" class=\"data row9 col11\" >51</td>\n",
       "      <td id=\"T_96a91_row9_col12\" class=\"data row9 col12\" >169</td>\n",
       "      <td id=\"T_96a91_row9_col13\" class=\"data row9 col13\" >252</td>\n",
       "      <td id=\"T_96a91_row9_col14\" class=\"data row9 col14\" >164</td>\n",
       "      <td id=\"T_96a91_row9_col15\" class=\"data row9 col15\" >10</td>\n",
       "      <td id=\"T_96a91_row9_col16\" class=\"data row9 col16\" >0</td>\n",
       "      <td id=\"T_96a91_row9_col17\" class=\"data row9 col17\" >0</td>\n",
       "      <td id=\"T_96a91_row9_col18\" class=\"data row9 col18\" >0</td>\n",
       "      <td id=\"T_96a91_row9_col19\" class=\"data row9 col19\" >0</td>\n",
       "      <td id=\"T_96a91_row9_col20\" class=\"data row9 col20\" >0</td>\n",
       "      <td id=\"T_96a91_row9_col21\" class=\"data row9 col21\" >0</td>\n",
       "      <td id=\"T_96a91_row9_col22\" class=\"data row9 col22\" >0</td>\n",
       "    </tr>\n",
       "    <tr>\n",
       "      <th id=\"T_96a91_level0_row10\" class=\"row_heading level0 row10\" >10</th>\n",
       "      <td id=\"T_96a91_row10_col0\" class=\"data row10 col0\" >0</td>\n",
       "      <td id=\"T_96a91_row10_col1\" class=\"data row10 col1\" >0</td>\n",
       "      <td id=\"T_96a91_row10_col2\" class=\"data row10 col2\" >0</td>\n",
       "      <td id=\"T_96a91_row10_col3\" class=\"data row10 col3\" >0</td>\n",
       "      <td id=\"T_96a91_row10_col4\" class=\"data row10 col4\" >0</td>\n",
       "      <td id=\"T_96a91_row10_col5\" class=\"data row10 col5\" >0</td>\n",
       "      <td id=\"T_96a91_row10_col6\" class=\"data row10 col6\" >0</td>\n",
       "      <td id=\"T_96a91_row10_col7\" class=\"data row10 col7\" >0</td>\n",
       "      <td id=\"T_96a91_row10_col8\" class=\"data row10 col8\" >0</td>\n",
       "      <td id=\"T_96a91_row10_col9\" class=\"data row10 col9\" >0</td>\n",
       "      <td id=\"T_96a91_row10_col10\" class=\"data row10 col10\" >0</td>\n",
       "      <td id=\"T_96a91_row10_col11\" class=\"data row10 col11\" >132</td>\n",
       "      <td id=\"T_96a91_row10_col12\" class=\"data row10 col12\" >252</td>\n",
       "      <td id=\"T_96a91_row10_col13\" class=\"data row10 col13\" >236</td>\n",
       "      <td id=\"T_96a91_row10_col14\" class=\"data row10 col14\" >48</td>\n",
       "      <td id=\"T_96a91_row10_col15\" class=\"data row10 col15\" >0</td>\n",
       "      <td id=\"T_96a91_row10_col16\" class=\"data row10 col16\" >0</td>\n",
       "      <td id=\"T_96a91_row10_col17\" class=\"data row10 col17\" >0</td>\n",
       "      <td id=\"T_96a91_row10_col18\" class=\"data row10 col18\" >0</td>\n",
       "      <td id=\"T_96a91_row10_col19\" class=\"data row10 col19\" >0</td>\n",
       "      <td id=\"T_96a91_row10_col20\" class=\"data row10 col20\" >0</td>\n",
       "      <td id=\"T_96a91_row10_col21\" class=\"data row10 col21\" >0</td>\n",
       "      <td id=\"T_96a91_row10_col22\" class=\"data row10 col22\" >0</td>\n",
       "    </tr>\n",
       "    <tr>\n",
       "      <th id=\"T_96a91_level0_row11\" class=\"row_heading level0 row11\" >11</th>\n",
       "      <td id=\"T_96a91_row11_col0\" class=\"data row11 col0\" >0</td>\n",
       "      <td id=\"T_96a91_row11_col1\" class=\"data row11 col1\" >0</td>\n",
       "      <td id=\"T_96a91_row11_col2\" class=\"data row11 col2\" >0</td>\n",
       "      <td id=\"T_96a91_row11_col3\" class=\"data row11 col3\" >0</td>\n",
       "      <td id=\"T_96a91_row11_col4\" class=\"data row11 col4\" >0</td>\n",
       "      <td id=\"T_96a91_row11_col5\" class=\"data row11 col5\" >0</td>\n",
       "      <td id=\"T_96a91_row11_col6\" class=\"data row11 col6\" >0</td>\n",
       "      <td id=\"T_96a91_row11_col7\" class=\"data row11 col7\" >0</td>\n",
       "      <td id=\"T_96a91_row11_col8\" class=\"data row11 col8\" >0</td>\n",
       "      <td id=\"T_96a91_row11_col9\" class=\"data row11 col9\" >0</td>\n",
       "      <td id=\"T_96a91_row11_col10\" class=\"data row11 col10\" >116</td>\n",
       "      <td id=\"T_96a91_row11_col11\" class=\"data row11 col11\" >248</td>\n",
       "      <td id=\"T_96a91_row11_col12\" class=\"data row11 col12\" >252</td>\n",
       "      <td id=\"T_96a91_row11_col13\" class=\"data row11 col13\" >158</td>\n",
       "      <td id=\"T_96a91_row11_col14\" class=\"data row11 col14\" >0</td>\n",
       "      <td id=\"T_96a91_row11_col15\" class=\"data row11 col15\" >0</td>\n",
       "      <td id=\"T_96a91_row11_col16\" class=\"data row11 col16\" >0</td>\n",
       "      <td id=\"T_96a91_row11_col17\" class=\"data row11 col17\" >0</td>\n",
       "      <td id=\"T_96a91_row11_col18\" class=\"data row11 col18\" >0</td>\n",
       "      <td id=\"T_96a91_row11_col19\" class=\"data row11 col19\" >0</td>\n",
       "      <td id=\"T_96a91_row11_col20\" class=\"data row11 col20\" >0</td>\n",
       "      <td id=\"T_96a91_row11_col21\" class=\"data row11 col21\" >0</td>\n",
       "      <td id=\"T_96a91_row11_col22\" class=\"data row11 col22\" >0</td>\n",
       "    </tr>\n",
       "    <tr>\n",
       "      <th id=\"T_96a91_level0_row12\" class=\"row_heading level0 row12\" >12</th>\n",
       "      <td id=\"T_96a91_row12_col0\" class=\"data row12 col0\" >0</td>\n",
       "      <td id=\"T_96a91_row12_col1\" class=\"data row12 col1\" >0</td>\n",
       "      <td id=\"T_96a91_row12_col2\" class=\"data row12 col2\" >0</td>\n",
       "      <td id=\"T_96a91_row12_col3\" class=\"data row12 col3\" >0</td>\n",
       "      <td id=\"T_96a91_row12_col4\" class=\"data row12 col4\" >0</td>\n",
       "      <td id=\"T_96a91_row12_col5\" class=\"data row12 col5\" >0</td>\n",
       "      <td id=\"T_96a91_row12_col6\" class=\"data row12 col6\" >0</td>\n",
       "      <td id=\"T_96a91_row12_col7\" class=\"data row12 col7\" >0</td>\n",
       "      <td id=\"T_96a91_row12_col8\" class=\"data row12 col8\" >0</td>\n",
       "      <td id=\"T_96a91_row12_col9\" class=\"data row12 col9\" >64</td>\n",
       "      <td id=\"T_96a91_row12_col10\" class=\"data row12 col10\" >248</td>\n",
       "      <td id=\"T_96a91_row12_col11\" class=\"data row12 col11\" >255</td>\n",
       "      <td id=\"T_96a91_row12_col12\" class=\"data row12 col12\" >223</td>\n",
       "      <td id=\"T_96a91_row12_col13\" class=\"data row12 col13\" >0</td>\n",
       "      <td id=\"T_96a91_row12_col14\" class=\"data row12 col14\" >0</td>\n",
       "      <td id=\"T_96a91_row12_col15\" class=\"data row12 col15\" >0</td>\n",
       "      <td id=\"T_96a91_row12_col16\" class=\"data row12 col16\" >0</td>\n",
       "      <td id=\"T_96a91_row12_col17\" class=\"data row12 col17\" >0</td>\n",
       "      <td id=\"T_96a91_row12_col18\" class=\"data row12 col18\" >0</td>\n",
       "      <td id=\"T_96a91_row12_col19\" class=\"data row12 col19\" >0</td>\n",
       "      <td id=\"T_96a91_row12_col20\" class=\"data row12 col20\" >0</td>\n",
       "      <td id=\"T_96a91_row12_col21\" class=\"data row12 col21\" >0</td>\n",
       "      <td id=\"T_96a91_row12_col22\" class=\"data row12 col22\" >0</td>\n",
       "    </tr>\n",
       "    <tr>\n",
       "      <th id=\"T_96a91_level0_row13\" class=\"row_heading level0 row13\" >13</th>\n",
       "      <td id=\"T_96a91_row13_col0\" class=\"data row13 col0\" >0</td>\n",
       "      <td id=\"T_96a91_row13_col1\" class=\"data row13 col1\" >0</td>\n",
       "      <td id=\"T_96a91_row13_col2\" class=\"data row13 col2\" >0</td>\n",
       "      <td id=\"T_96a91_row13_col3\" class=\"data row13 col3\" >0</td>\n",
       "      <td id=\"T_96a91_row13_col4\" class=\"data row13 col4\" >0</td>\n",
       "      <td id=\"T_96a91_row13_col5\" class=\"data row13 col5\" >0</td>\n",
       "      <td id=\"T_96a91_row13_col6\" class=\"data row13 col6\" >0</td>\n",
       "      <td id=\"T_96a91_row13_col7\" class=\"data row13 col7\" >0</td>\n",
       "      <td id=\"T_96a91_row13_col8\" class=\"data row13 col8\" >56</td>\n",
       "      <td id=\"T_96a91_row13_col9\" class=\"data row13 col9\" >242</td>\n",
       "      <td id=\"T_96a91_row13_col10\" class=\"data row13 col10\" >252</td>\n",
       "      <td id=\"T_96a91_row13_col11\" class=\"data row13 col11\" >241</td>\n",
       "      <td id=\"T_96a91_row13_col12\" class=\"data row13 col12\" >98</td>\n",
       "      <td id=\"T_96a91_row13_col13\" class=\"data row13 col13\" >0</td>\n",
       "      <td id=\"T_96a91_row13_col14\" class=\"data row13 col14\" >0</td>\n",
       "      <td id=\"T_96a91_row13_col15\" class=\"data row13 col15\" >0</td>\n",
       "      <td id=\"T_96a91_row13_col16\" class=\"data row13 col16\" >0</td>\n",
       "      <td id=\"T_96a91_row13_col17\" class=\"data row13 col17\" >0</td>\n",
       "      <td id=\"T_96a91_row13_col18\" class=\"data row13 col18\" >0</td>\n",
       "      <td id=\"T_96a91_row13_col19\" class=\"data row13 col19\" >0</td>\n",
       "      <td id=\"T_96a91_row13_col20\" class=\"data row13 col20\" >0</td>\n",
       "      <td id=\"T_96a91_row13_col21\" class=\"data row13 col21\" >0</td>\n",
       "      <td id=\"T_96a91_row13_col22\" class=\"data row13 col22\" >0</td>\n",
       "    </tr>\n",
       "    <tr>\n",
       "      <th id=\"T_96a91_level0_row14\" class=\"row_heading level0 row14\" >14</th>\n",
       "      <td id=\"T_96a91_row14_col0\" class=\"data row14 col0\" >0</td>\n",
       "      <td id=\"T_96a91_row14_col1\" class=\"data row14 col1\" >0</td>\n",
       "      <td id=\"T_96a91_row14_col2\" class=\"data row14 col2\" >0</td>\n",
       "      <td id=\"T_96a91_row14_col3\" class=\"data row14 col3\" >0</td>\n",
       "      <td id=\"T_96a91_row14_col4\" class=\"data row14 col4\" >0</td>\n",
       "      <td id=\"T_96a91_row14_col5\" class=\"data row14 col5\" >0</td>\n",
       "      <td id=\"T_96a91_row14_col6\" class=\"data row14 col6\" >0</td>\n",
       "      <td id=\"T_96a91_row14_col7\" class=\"data row14 col7\" >0</td>\n",
       "      <td id=\"T_96a91_row14_col8\" class=\"data row14 col8\" >171</td>\n",
       "      <td id=\"T_96a91_row14_col9\" class=\"data row14 col9\" >252</td>\n",
       "      <td id=\"T_96a91_row14_col10\" class=\"data row14 col10\" >252</td>\n",
       "      <td id=\"T_96a91_row14_col11\" class=\"data row14 col11\" >104</td>\n",
       "      <td id=\"T_96a91_row14_col12\" class=\"data row14 col12\" >0</td>\n",
       "      <td id=\"T_96a91_row14_col13\" class=\"data row14 col13\" >0</td>\n",
       "      <td id=\"T_96a91_row14_col14\" class=\"data row14 col14\" >0</td>\n",
       "      <td id=\"T_96a91_row14_col15\" class=\"data row14 col15\" >0</td>\n",
       "      <td id=\"T_96a91_row14_col16\" class=\"data row14 col16\" >0</td>\n",
       "      <td id=\"T_96a91_row14_col17\" class=\"data row14 col17\" >0</td>\n",
       "      <td id=\"T_96a91_row14_col18\" class=\"data row14 col18\" >0</td>\n",
       "      <td id=\"T_96a91_row14_col19\" class=\"data row14 col19\" >0</td>\n",
       "      <td id=\"T_96a91_row14_col20\" class=\"data row14 col20\" >0</td>\n",
       "      <td id=\"T_96a91_row14_col21\" class=\"data row14 col21\" >0</td>\n",
       "      <td id=\"T_96a91_row14_col22\" class=\"data row14 col22\" >0</td>\n",
       "    </tr>\n",
       "    <tr>\n",
       "      <th id=\"T_96a91_level0_row15\" class=\"row_heading level0 row15\" >15</th>\n",
       "      <td id=\"T_96a91_row15_col0\" class=\"data row15 col0\" >0</td>\n",
       "      <td id=\"T_96a91_row15_col1\" class=\"data row15 col1\" >0</td>\n",
       "      <td id=\"T_96a91_row15_col2\" class=\"data row15 col2\" >0</td>\n",
       "      <td id=\"T_96a91_row15_col3\" class=\"data row15 col3\" >0</td>\n",
       "      <td id=\"T_96a91_row15_col4\" class=\"data row15 col4\" >0</td>\n",
       "      <td id=\"T_96a91_row15_col5\" class=\"data row15 col5\" >0</td>\n",
       "      <td id=\"T_96a91_row15_col6\" class=\"data row15 col6\" >0</td>\n",
       "      <td id=\"T_96a91_row15_col7\" class=\"data row15 col7\" >137</td>\n",
       "      <td id=\"T_96a91_row15_col8\" class=\"data row15 col8\" >241</td>\n",
       "      <td id=\"T_96a91_row15_col9\" class=\"data row15 col9\" >252</td>\n",
       "      <td id=\"T_96a91_row15_col10\" class=\"data row15 col10\" >206</td>\n",
       "      <td id=\"T_96a91_row15_col11\" class=\"data row15 col11\" >0</td>\n",
       "      <td id=\"T_96a91_row15_col12\" class=\"data row15 col12\" >0</td>\n",
       "      <td id=\"T_96a91_row15_col13\" class=\"data row15 col13\" >0</td>\n",
       "      <td id=\"T_96a91_row15_col14\" class=\"data row15 col14\" >0</td>\n",
       "      <td id=\"T_96a91_row15_col15\" class=\"data row15 col15\" >0</td>\n",
       "      <td id=\"T_96a91_row15_col16\" class=\"data row15 col16\" >0</td>\n",
       "      <td id=\"T_96a91_row15_col17\" class=\"data row15 col17\" >0</td>\n",
       "      <td id=\"T_96a91_row15_col18\" class=\"data row15 col18\" >0</td>\n",
       "      <td id=\"T_96a91_row15_col19\" class=\"data row15 col19\" >0</td>\n",
       "      <td id=\"T_96a91_row15_col20\" class=\"data row15 col20\" >0</td>\n",
       "      <td id=\"T_96a91_row15_col21\" class=\"data row15 col21\" >0</td>\n",
       "      <td id=\"T_96a91_row15_col22\" class=\"data row15 col22\" >0</td>\n",
       "    </tr>\n",
       "    <tr>\n",
       "      <th id=\"T_96a91_level0_row16\" class=\"row_heading level0 row16\" >16</th>\n",
       "      <td id=\"T_96a91_row16_col0\" class=\"data row16 col0\" >0</td>\n",
       "      <td id=\"T_96a91_row16_col1\" class=\"data row16 col1\" >0</td>\n",
       "      <td id=\"T_96a91_row16_col2\" class=\"data row16 col2\" >0</td>\n",
       "      <td id=\"T_96a91_row16_col3\" class=\"data row16 col3\" >0</td>\n",
       "      <td id=\"T_96a91_row16_col4\" class=\"data row16 col4\" >0</td>\n",
       "      <td id=\"T_96a91_row16_col5\" class=\"data row16 col5\" >0</td>\n",
       "      <td id=\"T_96a91_row16_col6\" class=\"data row16 col6\" >18</td>\n",
       "      <td id=\"T_96a91_row16_col7\" class=\"data row16 col7\" >216</td>\n",
       "      <td id=\"T_96a91_row16_col8\" class=\"data row16 col8\" >252</td>\n",
       "      <td id=\"T_96a91_row16_col9\" class=\"data row16 col9\" >252</td>\n",
       "      <td id=\"T_96a91_row16_col10\" class=\"data row16 col10\" >11</td>\n",
       "      <td id=\"T_96a91_row16_col11\" class=\"data row16 col11\" >0</td>\n",
       "      <td id=\"T_96a91_row16_col12\" class=\"data row16 col12\" >0</td>\n",
       "      <td id=\"T_96a91_row16_col13\" class=\"data row16 col13\" >0</td>\n",
       "      <td id=\"T_96a91_row16_col14\" class=\"data row16 col14\" >0</td>\n",
       "      <td id=\"T_96a91_row16_col15\" class=\"data row16 col15\" >0</td>\n",
       "      <td id=\"T_96a91_row16_col16\" class=\"data row16 col16\" >0</td>\n",
       "      <td id=\"T_96a91_row16_col17\" class=\"data row16 col17\" >0</td>\n",
       "      <td id=\"T_96a91_row16_col18\" class=\"data row16 col18\" >0</td>\n",
       "      <td id=\"T_96a91_row16_col19\" class=\"data row16 col19\" >0</td>\n",
       "      <td id=\"T_96a91_row16_col20\" class=\"data row16 col20\" >0</td>\n",
       "      <td id=\"T_96a91_row16_col21\" class=\"data row16 col21\" >0</td>\n",
       "      <td id=\"T_96a91_row16_col22\" class=\"data row16 col22\" >0</td>\n",
       "    </tr>\n",
       "    <tr>\n",
       "      <th id=\"T_96a91_level0_row17\" class=\"row_heading level0 row17\" >17</th>\n",
       "      <td id=\"T_96a91_row17_col0\" class=\"data row17 col0\" >0</td>\n",
       "      <td id=\"T_96a91_row17_col1\" class=\"data row17 col1\" >0</td>\n",
       "      <td id=\"T_96a91_row17_col2\" class=\"data row17 col2\" >0</td>\n",
       "      <td id=\"T_96a91_row17_col3\" class=\"data row17 col3\" >0</td>\n",
       "      <td id=\"T_96a91_row17_col4\" class=\"data row17 col4\" >0</td>\n",
       "      <td id=\"T_96a91_row17_col5\" class=\"data row17 col5\" >47</td>\n",
       "      <td id=\"T_96a91_row17_col6\" class=\"data row17 col6\" >210</td>\n",
       "      <td id=\"T_96a91_row17_col7\" class=\"data row17 col7\" >252</td>\n",
       "      <td id=\"T_96a91_row17_col8\" class=\"data row17 col8\" >252</td>\n",
       "      <td id=\"T_96a91_row17_col9\" class=\"data row17 col9\" >77</td>\n",
       "      <td id=\"T_96a91_row17_col10\" class=\"data row17 col10\" >3</td>\n",
       "      <td id=\"T_96a91_row17_col11\" class=\"data row17 col11\" >0</td>\n",
       "      <td id=\"T_96a91_row17_col12\" class=\"data row17 col12\" >0</td>\n",
       "      <td id=\"T_96a91_row17_col13\" class=\"data row17 col13\" >0</td>\n",
       "      <td id=\"T_96a91_row17_col14\" class=\"data row17 col14\" >0</td>\n",
       "      <td id=\"T_96a91_row17_col15\" class=\"data row17 col15\" >0</td>\n",
       "      <td id=\"T_96a91_row17_col16\" class=\"data row17 col16\" >0</td>\n",
       "      <td id=\"T_96a91_row17_col17\" class=\"data row17 col17\" >0</td>\n",
       "      <td id=\"T_96a91_row17_col18\" class=\"data row17 col18\" >0</td>\n",
       "      <td id=\"T_96a91_row17_col19\" class=\"data row17 col19\" >0</td>\n",
       "      <td id=\"T_96a91_row17_col20\" class=\"data row17 col20\" >0</td>\n",
       "      <td id=\"T_96a91_row17_col21\" class=\"data row17 col21\" >0</td>\n",
       "      <td id=\"T_96a91_row17_col22\" class=\"data row17 col22\" >0</td>\n",
       "    </tr>\n",
       "    <tr>\n",
       "      <th id=\"T_96a91_level0_row18\" class=\"row_heading level0 row18\" >18</th>\n",
       "      <td id=\"T_96a91_row18_col0\" class=\"data row18 col0\" >0</td>\n",
       "      <td id=\"T_96a91_row18_col1\" class=\"data row18 col1\" >0</td>\n",
       "      <td id=\"T_96a91_row18_col2\" class=\"data row18 col2\" >0</td>\n",
       "      <td id=\"T_96a91_row18_col3\" class=\"data row18 col3\" >0</td>\n",
       "      <td id=\"T_96a91_row18_col4\" class=\"data row18 col4\" >0</td>\n",
       "      <td id=\"T_96a91_row18_col5\" class=\"data row18 col5\" >101</td>\n",
       "      <td id=\"T_96a91_row18_col6\" class=\"data row18 col6\" >252</td>\n",
       "      <td id=\"T_96a91_row18_col7\" class=\"data row18 col7\" >252</td>\n",
       "      <td id=\"T_96a91_row18_col8\" class=\"data row18 col8\" >133</td>\n",
       "      <td id=\"T_96a91_row18_col9\" class=\"data row18 col9\" >5</td>\n",
       "      <td id=\"T_96a91_row18_col10\" class=\"data row18 col10\" >0</td>\n",
       "      <td id=\"T_96a91_row18_col11\" class=\"data row18 col11\" >0</td>\n",
       "      <td id=\"T_96a91_row18_col12\" class=\"data row18 col12\" >0</td>\n",
       "      <td id=\"T_96a91_row18_col13\" class=\"data row18 col13\" >0</td>\n",
       "      <td id=\"T_96a91_row18_col14\" class=\"data row18 col14\" >0</td>\n",
       "      <td id=\"T_96a91_row18_col15\" class=\"data row18 col15\" >0</td>\n",
       "      <td id=\"T_96a91_row18_col16\" class=\"data row18 col16\" >0</td>\n",
       "      <td id=\"T_96a91_row18_col17\" class=\"data row18 col17\" >0</td>\n",
       "      <td id=\"T_96a91_row18_col18\" class=\"data row18 col18\" >0</td>\n",
       "      <td id=\"T_96a91_row18_col19\" class=\"data row18 col19\" >0</td>\n",
       "      <td id=\"T_96a91_row18_col20\" class=\"data row18 col20\" >0</td>\n",
       "      <td id=\"T_96a91_row18_col21\" class=\"data row18 col21\" >0</td>\n",
       "      <td id=\"T_96a91_row18_col22\" class=\"data row18 col22\" >0</td>\n",
       "    </tr>\n",
       "    <tr>\n",
       "      <th id=\"T_96a91_level0_row19\" class=\"row_heading level0 row19\" >19</th>\n",
       "      <td id=\"T_96a91_row19_col0\" class=\"data row19 col0\" >0</td>\n",
       "      <td id=\"T_96a91_row19_col1\" class=\"data row19 col1\" >0</td>\n",
       "      <td id=\"T_96a91_row19_col2\" class=\"data row19 col2\" >0</td>\n",
       "      <td id=\"T_96a91_row19_col3\" class=\"data row19 col3\" >0</td>\n",
       "      <td id=\"T_96a91_row19_col4\" class=\"data row19 col4\" >42</td>\n",
       "      <td id=\"T_96a91_row19_col5\" class=\"data row19 col5\" >242</td>\n",
       "      <td id=\"T_96a91_row19_col6\" class=\"data row19 col6\" >252</td>\n",
       "      <td id=\"T_96a91_row19_col7\" class=\"data row19 col7\" >133</td>\n",
       "      <td id=\"T_96a91_row19_col8\" class=\"data row19 col8\" >5</td>\n",
       "      <td id=\"T_96a91_row19_col9\" class=\"data row19 col9\" >0</td>\n",
       "      <td id=\"T_96a91_row19_col10\" class=\"data row19 col10\" >0</td>\n",
       "      <td id=\"T_96a91_row19_col11\" class=\"data row19 col11\" >0</td>\n",
       "      <td id=\"T_96a91_row19_col12\" class=\"data row19 col12\" >0</td>\n",
       "      <td id=\"T_96a91_row19_col13\" class=\"data row19 col13\" >0</td>\n",
       "      <td id=\"T_96a91_row19_col14\" class=\"data row19 col14\" >0</td>\n",
       "      <td id=\"T_96a91_row19_col15\" class=\"data row19 col15\" >0</td>\n",
       "      <td id=\"T_96a91_row19_col16\" class=\"data row19 col16\" >0</td>\n",
       "      <td id=\"T_96a91_row19_col17\" class=\"data row19 col17\" >0</td>\n",
       "      <td id=\"T_96a91_row19_col18\" class=\"data row19 col18\" >0</td>\n",
       "      <td id=\"T_96a91_row19_col19\" class=\"data row19 col19\" >0</td>\n",
       "      <td id=\"T_96a91_row19_col20\" class=\"data row19 col20\" >0</td>\n",
       "      <td id=\"T_96a91_row19_col21\" class=\"data row19 col21\" >0</td>\n",
       "      <td id=\"T_96a91_row19_col22\" class=\"data row19 col22\" >0</td>\n",
       "    </tr>\n",
       "    <tr>\n",
       "      <th id=\"T_96a91_level0_row20\" class=\"row_heading level0 row20\" >20</th>\n",
       "      <td id=\"T_96a91_row20_col0\" class=\"data row20 col0\" >0</td>\n",
       "      <td id=\"T_96a91_row20_col1\" class=\"data row20 col1\" >0</td>\n",
       "      <td id=\"T_96a91_row20_col2\" class=\"data row20 col2\" >0</td>\n",
       "      <td id=\"T_96a91_row20_col3\" class=\"data row20 col3\" >0</td>\n",
       "      <td id=\"T_96a91_row20_col4\" class=\"data row20 col4\" >158</td>\n",
       "      <td id=\"T_96a91_row20_col5\" class=\"data row20 col5\" >252</td>\n",
       "      <td id=\"T_96a91_row20_col6\" class=\"data row20 col6\" >252</td>\n",
       "      <td id=\"T_96a91_row20_col7\" class=\"data row20 col7\" >48</td>\n",
       "      <td id=\"T_96a91_row20_col8\" class=\"data row20 col8\" >0</td>\n",
       "      <td id=\"T_96a91_row20_col9\" class=\"data row20 col9\" >0</td>\n",
       "      <td id=\"T_96a91_row20_col10\" class=\"data row20 col10\" >0</td>\n",
       "      <td id=\"T_96a91_row20_col11\" class=\"data row20 col11\" >0</td>\n",
       "      <td id=\"T_96a91_row20_col12\" class=\"data row20 col12\" >0</td>\n",
       "      <td id=\"T_96a91_row20_col13\" class=\"data row20 col13\" >0</td>\n",
       "      <td id=\"T_96a91_row20_col14\" class=\"data row20 col14\" >0</td>\n",
       "      <td id=\"T_96a91_row20_col15\" class=\"data row20 col15\" >0</td>\n",
       "      <td id=\"T_96a91_row20_col16\" class=\"data row20 col16\" >0</td>\n",
       "      <td id=\"T_96a91_row20_col17\" class=\"data row20 col17\" >0</td>\n",
       "      <td id=\"T_96a91_row20_col18\" class=\"data row20 col18\" >0</td>\n",
       "      <td id=\"T_96a91_row20_col19\" class=\"data row20 col19\" >0</td>\n",
       "      <td id=\"T_96a91_row20_col20\" class=\"data row20 col20\" >0</td>\n",
       "      <td id=\"T_96a91_row20_col21\" class=\"data row20 col21\" >0</td>\n",
       "      <td id=\"T_96a91_row20_col22\" class=\"data row20 col22\" >0</td>\n",
       "    </tr>\n",
       "    <tr>\n",
       "      <th id=\"T_96a91_level0_row21\" class=\"row_heading level0 row21\" >21</th>\n",
       "      <td id=\"T_96a91_row21_col0\" class=\"data row21 col0\" >0</td>\n",
       "      <td id=\"T_96a91_row21_col1\" class=\"data row21 col1\" >0</td>\n",
       "      <td id=\"T_96a91_row21_col2\" class=\"data row21 col2\" >0</td>\n",
       "      <td id=\"T_96a91_row21_col3\" class=\"data row21 col3\" >0</td>\n",
       "      <td id=\"T_96a91_row21_col4\" class=\"data row21 col4\" >31</td>\n",
       "      <td id=\"T_96a91_row21_col5\" class=\"data row21 col5\" >218</td>\n",
       "      <td id=\"T_96a91_row21_col6\" class=\"data row21 col6\" >217</td>\n",
       "      <td id=\"T_96a91_row21_col7\" class=\"data row21 col7\" >25</td>\n",
       "      <td id=\"T_96a91_row21_col8\" class=\"data row21 col8\" >0</td>\n",
       "      <td id=\"T_96a91_row21_col9\" class=\"data row21 col9\" >0</td>\n",
       "      <td id=\"T_96a91_row21_col10\" class=\"data row21 col10\" >0</td>\n",
       "      <td id=\"T_96a91_row21_col11\" class=\"data row21 col11\" >0</td>\n",
       "      <td id=\"T_96a91_row21_col12\" class=\"data row21 col12\" >0</td>\n",
       "      <td id=\"T_96a91_row21_col13\" class=\"data row21 col13\" >0</td>\n",
       "      <td id=\"T_96a91_row21_col14\" class=\"data row21 col14\" >0</td>\n",
       "      <td id=\"T_96a91_row21_col15\" class=\"data row21 col15\" >0</td>\n",
       "      <td id=\"T_96a91_row21_col16\" class=\"data row21 col16\" >0</td>\n",
       "      <td id=\"T_96a91_row21_col17\" class=\"data row21 col17\" >0</td>\n",
       "      <td id=\"T_96a91_row21_col18\" class=\"data row21 col18\" >0</td>\n",
       "      <td id=\"T_96a91_row21_col19\" class=\"data row21 col19\" >0</td>\n",
       "      <td id=\"T_96a91_row21_col20\" class=\"data row21 col20\" >0</td>\n",
       "      <td id=\"T_96a91_row21_col21\" class=\"data row21 col21\" >0</td>\n",
       "      <td id=\"T_96a91_row21_col22\" class=\"data row21 col22\" >0</td>\n",
       "    </tr>\n",
       "  </tbody>\n",
       "</table>\n"
      ],
      "text/plain": [
       "<pandas.io.formats.style.Styler at 0x278aa40f820>"
      ]
     },
     "execution_count": 22,
     "metadata": {},
     "output_type": "execute_result"
    }
   ],
   "source": [
    "im7_t = tensor(im7)\n",
    "df = pd.DataFrame(im7_t[5:27, 4:27])\n",
    "df.style.set_properties(**{'front-size':'8pt'}).background_gradient('Greys')\n",
    "\n"
   ]
  },
  {
   "cell_type": "raw",
   "id": "5cf16442",
   "metadata": {},
   "source": [
    "Find the average of the pixel values and checking its similarity with the handwritten data"
   ]
  },
  {
   "cell_type": "markdown",
   "id": "07955ec3",
   "metadata": {},
   "source": [
    "#Let's create a tensor containing all of our 3s stacked together. We already know how to create a tensor containing a single image. To create a tensor containing all the images in a directory, we will first use a Python list comprehension to create a plain list of the single image tensors."
   ]
  },
  {
   "cell_type": "code",
   "execution_count": 23,
   "id": "358a70ad",
   "metadata": {},
   "outputs": [
    {
     "data": {
      "text/plain": [
       "(6131, 6265)"
      ]
     },
     "execution_count": 23,
     "metadata": {},
     "output_type": "execute_result"
    }
   ],
   "source": [
    "import fastai\n",
    "from fastai.vision.all import *\n",
    "\n",
    "seven_tensors = [tensor(Image.open(q)) for q in sevens] #list comprehension\n",
    "three_tensors = [tensor(Image.open(o)) for o in threes]\n",
    "len(three_tensors), len(seven_tensors)"
   ]
  },
  {
   "cell_type": "code",
   "execution_count": 24,
   "id": "4c4f1e9b",
   "metadata": {},
   "outputs": [
    {
     "data": {
      "text/plain": [
       "<Axes: >"
      ]
     },
     "execution_count": 24,
     "metadata": {},
     "output_type": "execute_result"
    },
    {
     "data": {
      "image/png": "[encoded data removed]",
      "text/plain": [
       "<Figure size 100x100 with 1 Axes>"
      ]
     },
     "metadata": {},
     "output_type": "display_data"
    }
   ],
   "source": [
    "show_image(three_tensors[1])"
   ]
  },
  {
   "cell_type": "code",
   "execution_count": 25,
   "id": "9ab8bef6",
   "metadata": {},
   "outputs": [
    {
     "data": {
      "text/plain": [
       "torch.Size([6131, 28, 28])"
      ]
     },
     "execution_count": 25,
     "metadata": {},
     "output_type": "execute_result"
    }
   ],
   "source": [
    "#using the stack function is pyTorch\n",
    "stacked_sevens = torch.stack(seven_tensors).float()/255\n",
    "stacked_threes = torch.stack(three_tensors).float()/255\n",
    "stacked_threes.shape"
   ]
  },
  {
   "cell_type": "code",
   "execution_count": 26,
   "id": "6f6c1c32",
   "metadata": {},
   "outputs": [
    {
     "data": {
      "text/plain": [
       "3"
      ]
     },
     "execution_count": 26,
     "metadata": {},
     "output_type": "execute_result"
    }
   ],
   "source": [
    "len(stacked_threes.shape) # rank of the tensor"
   ]
  },
  {
   "cell_type": "code",
   "execution_count": 27,
   "id": "b1d96251",
   "metadata": {},
   "outputs": [
    {
     "data": {
      "text/plain": [
       "3"
      ]
     },
     "execution_count": 27,
     "metadata": {},
     "output_type": "execute_result"
    }
   ],
   "source": [
    "stacked_threes.ndim# tensor's rank"
   ]
  },
  {
   "cell_type": "code",
   "execution_count": 28,
   "id": "9333f422",
   "metadata": {},
   "outputs": [
    {
     "data": {
      "text/plain": [
       "<Axes: >"
      ]
     },
     "execution_count": 28,
     "metadata": {},
     "output_type": "execute_result"
    },
    {
     "data": {
      "image/png": "[encoded data removed]",
      "text/plain": [
       "<Figure size 100x100 with 1 Axes>"
      ]
     },
     "metadata": {},
     "output_type": "display_data"
    }
   ],
   "source": [
    "mean3 = stacked_threes.mean(0)\n",
    "show_image(mean3)"
   ]
  },
  {
   "cell_type": "markdown",
   "id": "cca2189e",
   "metadata": {},
   "source": [
    "stacked_threes: This tensor likely contains a collection of images, where each image is represented as a separate tensor. These images are stacked along a new dimension (dimension 0), resulting in a tensor where each element along dimension 0 corresponds to an image.\n",
    "\n",
    "mean3 = stacked_threes.mean(0): This line calculates the mean of these images along dimension 0. In other words, it computes the element-wise mean of all the images in the stacked_threes tensor, resulting in a single tensor that represents the mean image.\n",
    "\n",
    "mean3 is the tensor representing the mean image.\n",
    "The mean(0) operation computes the mean along the first dimension (dimension 0), effectively averaging pixel values across all the images in the collection to produce the mean image.\n",
    "show_image(mean3): After calculating the mean image, this line displays the mean image using a function called show_image. This function is likely used to visualize the tensor as an image.\n",
    "\n",
    "The show_image function takes the mean3 tensor as input and displays it as an image.\n",
    "The result of this code is that you'll see the mean image of all the \"3\" images contained in the stacked_threes tensor. This can be a useful visualization because it shows you a representation of what a \"typical\" or \"average\" handwritten digit \"3\" looks like based on the dataset you have.\n",
    "\n",
    "\n",
    "\n",
    "\n",
    "\n"
   ]
  },
  {
   "cell_type": "code",
   "execution_count": 32,
   "id": "dc6b4b14",
   "metadata": {},
   "outputs": [
    {
     "data": {
      "text/plain": [
       "<Axes: >"
      ]
     },
     "execution_count": 32,
     "metadata": {},
     "output_type": "execute_result"
    },
    {
     "data": {
      "image/png": "[encoded data removed]",
      "text/plain": [
       "<Figure size 100x100 with 1 Axes>"
      ]
     },
     "metadata": {},
     "output_type": "display_data"
    }
   ],
   "source": [
    "mean7 = stacked_sevens.mean(0)\n",
    "show_image(mean7)"
   ]
  },
  {
   "cell_type": "code",
   "execution_count": 42,
   "id": "6b4ec091",
   "metadata": {},
   "outputs": [
    {
     "data": {
      "text/plain": [
       "<Axes: >"
      ]
     },
     "execution_count": 42,
     "metadata": {},
     "output_type": "execute_result"
    },
    {
     "data": {
      "image/png": "[encoded data removed]",
      "text/plain": [
       "<Figure size 100x100 with 1 Axes>"
      ]
     },
     "metadata": {},
     "output_type": "display_data"
    }
   ],
   "source": [
    "a_3 = stacked_threes[1]\n",
    "show_image(a_3)"
   ]
  },
  {
   "cell_type": "raw",
   "id": "36136697",
   "metadata": {},
   "source": [
    "l1  norm"
   ]
  },
  {
   "cell_type": "code",
   "execution_count": 43,
   "id": "82c991ba",
   "metadata": {},
   "outputs": [
    {
     "data": {
      "text/plain": [
       "(tensor(0.1114), tensor(0.2021))"
      ]
     },
     "execution_count": 43,
     "metadata": {},
     "output_type": "execute_result"
    }
   ],
   "source": [
    "dist_3_abs = (a_3 - mean3).abs().mean()\n",
    "dist_3_sqr = ((a_3 - mean3)**2).mean().sqrt()\n",
    "dist_3_abs, dist_3_sqr"
   ]
  },
  {
   "cell_type": "code",
   "execution_count": 44,
   "id": "a6e65df2",
   "metadata": {},
   "outputs": [
    {
     "data": {
      "text/plain": [
       "(tensor(0.1586), tensor(0.2360))"
      ]
     },
     "execution_count": 44,
     "metadata": {},
     "output_type": "execute_result"
    }
   ],
   "source": [
    "dist_7_abs = (a_3 - mean7).abs().mean()\n",
    "dist_7_sqr = ((a_3 - mean7)*2).mean().sqrt()\n",
    "dist_7_abs, dist_7_sqr"
   ]
  },
  {
   "cell_type": "code",
   "execution_count": 45,
   "id": "24db6381",
   "metadata": {},
   "outputs": [],
   "source": [
    "import torch\n",
    "import torch.nn.functional as F"
   ]
  },
  {
   "cell_type": "code",
   "execution_count": 46,
   "id": "14a46f06",
   "metadata": {},
   "outputs": [
    {
     "data": {
      "text/plain": [
       "(tensor(0.1586), tensor(0.3021))"
      ]
     },
     "execution_count": 46,
     "metadata": {},
     "output_type": "execute_result"
    }
   ],
   "source": [
    "F.l1_loss(a_3.float(),mean7), F.mse_loss(a_3,mean7).sqrt()\n"
   ]
  },
  {
   "cell_type": "markdown",
   "id": "542b9f3a",
   "metadata": {},
   "source": [
    "# Array / Tensor techniques "
   ]
  },
  {
   "cell_type": "code",
   "execution_count": 47,
   "id": "16c88141",
   "metadata": {},
   "outputs": [],
   "source": [
    "#creating a tensor\n",
    "data = [[1,2,3], [4,5,6]]\n",
    "arr = array(data)\n",
    "tns = tensor(data)"
   ]
  },
  {
   "cell_type": "code",
   "execution_count": 48,
   "id": "7fad3ebc",
   "metadata": {},
   "outputs": [
    {
     "data": {
      "text/plain": [
       "array([[1, 2, 3],\n",
       "       [4, 5, 6]])"
      ]
     },
     "execution_count": 48,
     "metadata": {},
     "output_type": "execute_result"
    }
   ],
   "source": [
    "arr #numpy"
   ]
  },
  {
   "cell_type": "code",
   "execution_count": 49,
   "id": "954d14ee",
   "metadata": {},
   "outputs": [
    {
     "data": {
      "text/plain": [
       "tensor([[1, 2, 3],\n",
       "        [4, 5, 6]])"
      ]
     },
     "execution_count": 49,
     "metadata": {},
     "output_type": "execute_result"
    }
   ],
   "source": [
    "tns #pytorch"
   ]
  },
  {
   "cell_type": "code",
   "execution_count": 50,
   "id": "91ddc290",
   "metadata": {},
   "outputs": [
    {
     "data": {
      "text/plain": [
       "tensor([4, 5, 6])"
      ]
     },
     "execution_count": 50,
     "metadata": {},
     "output_type": "execute_result"
    }
   ],
   "source": [
    "tns[1]"
   ]
  },
  {
   "cell_type": "code",
   "execution_count": 51,
   "id": "461ca205",
   "metadata": {},
   "outputs": [
    {
     "data": {
      "text/plain": [
       "tensor([2, 5])"
      ]
     },
     "execution_count": 51,
     "metadata": {},
     "output_type": "execute_result"
    }
   ],
   "source": [
    "tns[:,1]"
   ]
  },
  {
   "cell_type": "code",
   "execution_count": 52,
   "id": "e19c0afa",
   "metadata": {},
   "outputs": [
    {
     "data": {
      "text/plain": [
       "tensor([5, 6])"
      ]
     },
     "execution_count": 52,
     "metadata": {},
     "output_type": "execute_result"
    }
   ],
   "source": [
    "tns[1,1:3]"
   ]
  },
  {
   "cell_type": "code",
   "execution_count": 53,
   "id": "bb4d4dc0",
   "metadata": {},
   "outputs": [
    {
     "data": {
      "text/plain": [
       "tensor([[2, 3, 4],\n",
       "        [5, 6, 7]])"
      ]
     },
     "execution_count": 53,
     "metadata": {},
     "output_type": "execute_result"
    }
   ],
   "source": [
    "tns+1"
   ]
  },
  {
   "cell_type": "code",
   "execution_count": 54,
   "id": "c8ed1bcb",
   "metadata": {},
   "outputs": [
    {
     "data": {
      "text/plain": [
       "'torch.LongTensor'"
      ]
     },
     "execution_count": 54,
     "metadata": {},
     "output_type": "execute_result"
    }
   ],
   "source": [
    "tns.type()"
   ]
  },
  {
   "cell_type": "code",
   "execution_count": 55,
   "id": "61c7b275",
   "metadata": {},
   "outputs": [
    {
     "data": {
      "text/plain": [
       "tensor([[1.5000, 3.0000, 4.5000],\n",
       "        [6.0000, 7.5000, 9.0000]])"
      ]
     },
     "execution_count": 55,
     "metadata": {},
     "output_type": "execute_result"
    }
   ],
   "source": [
    "tns*1.5"
   ]
  },
  {
   "cell_type": "code",
   "execution_count": null,
   "id": "e331f392",
   "metadata": {},
   "outputs": [],
   "source": [
    "    "
   ]
  }
 ],
 "metadata": {
  "kernelspec": {
   "display_name": "Python 3 (ipykernel)",
   "language": "python",
   "name": "python3"
  },
  "language_info": {
   "codemirror_mode": {
    "name": "ipython",
    "version": 3
   },
   "file_extension": ".py",
   "mimetype": "text/x-python",
   "name": "python",
   "nbconvert_exporter": "python",
   "pygments_lexer": "ipython3",
   "version": "3.11.5"
  }
 },
 "nbformat": 4,
 "nbformat_minor": 5
}
